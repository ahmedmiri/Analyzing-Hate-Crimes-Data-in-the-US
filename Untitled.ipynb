{
 "cells": [
  {
   "cell_type": "markdown",
   "id": "ac6af191-9634-40b4-aa37-e56f75f0e495",
   "metadata": {},
   "source": [
    "### Hate Crimes Data in Illinois State From 1991 To 2020"
   ]
  },
  {
   "cell_type": "markdown",
   "id": "63cf51c9-6071-4904-865e-a2a9bf4ca2c0",
   "metadata": {},
   "source": [
    "![purple-divider](https://user-images.githubusercontent.com/7065401/52071927-c1cd7100-2562-11e9-908a-dde91ba14e59.png)"
   ]
  },
  {
   "cell_type": "code",
   "execution_count": 1,
   "id": "d26751f3-f390-4b96-a55c-2b756bbf2e59",
   "metadata": {},
   "outputs": [],
   "source": [
    "import numpy as np\n",
    "import pandas as pd\n",
    "import matplotlib.pyplot as plt\n",
    "\n",
    "\n",
    "%matplotlib inline"
   ]
  },
  {
   "cell_type": "markdown",
   "id": "899a05c7-8090-4ac2-9494-c60104e665b2",
   "metadata": {},
   "source": [
    "![green-divider](https://user-images.githubusercontent.com/7065401/52071924-c003ad80-2562-11e9-8297-1c6595f8a7ff.png)\n",
    "### Loading our data:"
   ]
  },
  {
   "cell_type": "code",
   "execution_count": 2,
   "id": "21754677-446f-45b9-bfae-8884872dba94",
   "metadata": {},
   "outputs": [],
   "source": [
    "data = pd.read_csv( 'Hate_Crimes_in_IL_1991_2020.csv')"
   ]
  },
  {
   "cell_type": "markdown",
   "id": "240e6f30-fd49-4858-8353-851ed497da91",
   "metadata": {},
   "source": [
    "![green-divider](https://user-images.githubusercontent.com/7065401/52071924-c003ad80-2562-11e9-8297-1c6595f8a7ff.png)\n",
    "### The data at a glance:"
   ]
  },
  {
   "cell_type": "code",
   "execution_count": 3,
   "id": "cc5a403d-8ba2-4191-b8fa-bd3d40cd4a72",
   "metadata": {},
   "outputs": [
    {
     "data": {
      "text/html": [
       "<div>\n",
       "<style scoped>\n",
       "    .dataframe tbody tr th:only-of-type {\n",
       "        vertical-align: middle;\n",
       "    }\n",
       "\n",
       "    .dataframe tbody tr th {\n",
       "        vertical-align: top;\n",
       "    }\n",
       "\n",
       "    .dataframe thead th {\n",
       "        text-align: right;\n",
       "    }\n",
       "</style>\n",
       "<table border=\"1\" class=\"dataframe\">\n",
       "  <thead>\n",
       "    <tr style=\"text-align: right;\">\n",
       "      <th></th>\n",
       "      <th>Unnamed: 0</th>\n",
       "      <th>INCIDENT_ID</th>\n",
       "      <th>DATA_YEAR</th>\n",
       "      <th>ORI</th>\n",
       "      <th>PUB_AGENCY_NAME</th>\n",
       "      <th>PUB_AGENCY_UNIT</th>\n",
       "      <th>AGENCY_TYPE_NAME</th>\n",
       "      <th>STATE_ABBR</th>\n",
       "      <th>STATE_NAME</th>\n",
       "      <th>DIVISION_NAME</th>\n",
       "      <th>...</th>\n",
       "      <th>OFFENDER_RACE</th>\n",
       "      <th>OFFENDER_ETHNICITY</th>\n",
       "      <th>VICTIM_COUNT</th>\n",
       "      <th>OFFENSE_NAME</th>\n",
       "      <th>TOTAL_INDIVIDUAL_VICTIMS</th>\n",
       "      <th>LOCATION_NAME</th>\n",
       "      <th>BIAS_DESC</th>\n",
       "      <th>VICTIM_TYPES</th>\n",
       "      <th>MULTIPLE_OFFENSE</th>\n",
       "      <th>MULTIPLE_BIAS</th>\n",
       "    </tr>\n",
       "  </thead>\n",
       "  <tbody>\n",
       "    <tr>\n",
       "      <th>0</th>\n",
       "      <td>442</td>\n",
       "      <td>346</td>\n",
       "      <td>1991</td>\n",
       "      <td>IL0100700</td>\n",
       "      <td>University of Illinois:</td>\n",
       "      <td>Urbana</td>\n",
       "      <td>University or College</td>\n",
       "      <td>IL</td>\n",
       "      <td>Illinois</td>\n",
       "      <td>East North Central</td>\n",
       "      <td>...</td>\n",
       "      <td>Unknown</td>\n",
       "      <td>NaN</td>\n",
       "      <td>2</td>\n",
       "      <td>Intimidation</td>\n",
       "      <td>2.0</td>\n",
       "      <td>School/College</td>\n",
       "      <td>Anti-Black or African American</td>\n",
       "      <td>Individual</td>\n",
       "      <td>S</td>\n",
       "      <td>S</td>\n",
       "    </tr>\n",
       "    <tr>\n",
       "      <th>1</th>\n",
       "      <td>443</td>\n",
       "      <td>2945</td>\n",
       "      <td>1991</td>\n",
       "      <td>IL0163300</td>\n",
       "      <td>Evergreen Park</td>\n",
       "      <td>NaN</td>\n",
       "      <td>City</td>\n",
       "      <td>IL</td>\n",
       "      <td>Illinois</td>\n",
       "      <td>East North Central</td>\n",
       "      <td>...</td>\n",
       "      <td>Black or African American</td>\n",
       "      <td>NaN</td>\n",
       "      <td>1</td>\n",
       "      <td>Murder and Nonnegligent Manslaughter</td>\n",
       "      <td>1.0</td>\n",
       "      <td>Parking/Drop Lot/Garage</td>\n",
       "      <td>Anti-White</td>\n",
       "      <td>Individual</td>\n",
       "      <td>S</td>\n",
       "      <td>S</td>\n",
       "    </tr>\n",
       "    <tr>\n",
       "      <th>2</th>\n",
       "      <td>444</td>\n",
       "      <td>347</td>\n",
       "      <td>1991</td>\n",
       "      <td>IL0169B00</td>\n",
       "      <td>Wheeling</td>\n",
       "      <td>NaN</td>\n",
       "      <td>City</td>\n",
       "      <td>IL</td>\n",
       "      <td>Illinois</td>\n",
       "      <td>East North Central</td>\n",
       "      <td>...</td>\n",
       "      <td>White</td>\n",
       "      <td>NaN</td>\n",
       "      <td>1</td>\n",
       "      <td>Simple Assault</td>\n",
       "      <td>1.0</td>\n",
       "      <td>School/College</td>\n",
       "      <td>Anti-Black or African American</td>\n",
       "      <td>Individual</td>\n",
       "      <td>S</td>\n",
       "      <td>S</td>\n",
       "    </tr>\n",
       "    <tr>\n",
       "      <th>3</th>\n",
       "      <td>445</td>\n",
       "      <td>348</td>\n",
       "      <td>1991</td>\n",
       "      <td>IL0190000</td>\n",
       "      <td>DeKalb</td>\n",
       "      <td>NaN</td>\n",
       "      <td>County</td>\n",
       "      <td>IL</td>\n",
       "      <td>Illinois</td>\n",
       "      <td>East North Central</td>\n",
       "      <td>...</td>\n",
       "      <td>Unknown</td>\n",
       "      <td>NaN</td>\n",
       "      <td>1</td>\n",
       "      <td>Destruction/Damage/Vandalism of Property</td>\n",
       "      <td>1.0</td>\n",
       "      <td>Residence/Home</td>\n",
       "      <td>Anti-Black or African American</td>\n",
       "      <td>Individual</td>\n",
       "      <td>S</td>\n",
       "      <td>S</td>\n",
       "    </tr>\n",
       "    <tr>\n",
       "      <th>4</th>\n",
       "      <td>446</td>\n",
       "      <td>349</td>\n",
       "      <td>1991</td>\n",
       "      <td>IL0490000</td>\n",
       "      <td>Lake</td>\n",
       "      <td>NaN</td>\n",
       "      <td>County</td>\n",
       "      <td>IL</td>\n",
       "      <td>Illinois</td>\n",
       "      <td>East North Central</td>\n",
       "      <td>...</td>\n",
       "      <td>White</td>\n",
       "      <td>NaN</td>\n",
       "      <td>2</td>\n",
       "      <td>Destruction/Damage/Vandalism of Property;Simpl...</td>\n",
       "      <td>1.0</td>\n",
       "      <td>Highway/Road/Alley/Street/Sidewalk</td>\n",
       "      <td>Anti-Black or African American</td>\n",
       "      <td>Individual</td>\n",
       "      <td>M</td>\n",
       "      <td>S</td>\n",
       "    </tr>\n",
       "  </tbody>\n",
       "</table>\n",
       "<p>5 rows × 29 columns</p>\n",
       "</div>"
      ],
      "text/plain": [
       "   Unnamed: 0  INCIDENT_ID  DATA_YEAR        ORI          PUB_AGENCY_NAME  \\\n",
       "0         442          346       1991  IL0100700  University of Illinois:   \n",
       "1         443         2945       1991  IL0163300           Evergreen Park   \n",
       "2         444          347       1991  IL0169B00                 Wheeling   \n",
       "3         445          348       1991  IL0190000                   DeKalb   \n",
       "4         446          349       1991  IL0490000                     Lake   \n",
       "\n",
       "  PUB_AGENCY_UNIT       AGENCY_TYPE_NAME STATE_ABBR STATE_NAME  \\\n",
       "0          Urbana  University or College         IL   Illinois   \n",
       "1             NaN                   City         IL   Illinois   \n",
       "2             NaN                   City         IL   Illinois   \n",
       "3             NaN                 County         IL   Illinois   \n",
       "4             NaN                 County         IL   Illinois   \n",
       "\n",
       "        DIVISION_NAME  ...              OFFENDER_RACE OFFENDER_ETHNICITY  \\\n",
       "0  East North Central  ...                    Unknown                NaN   \n",
       "1  East North Central  ...  Black or African American                NaN   \n",
       "2  East North Central  ...                      White                NaN   \n",
       "3  East North Central  ...                    Unknown                NaN   \n",
       "4  East North Central  ...                      White                NaN   \n",
       "\n",
       "  VICTIM_COUNT                                       OFFENSE_NAME  \\\n",
       "0            2                                       Intimidation   \n",
       "1            1               Murder and Nonnegligent Manslaughter   \n",
       "2            1                                     Simple Assault   \n",
       "3            1           Destruction/Damage/Vandalism of Property   \n",
       "4            2  Destruction/Damage/Vandalism of Property;Simpl...   \n",
       "\n",
       "   TOTAL_INDIVIDUAL_VICTIMS                       LOCATION_NAME  \\\n",
       "0                       2.0                      School/College   \n",
       "1                       1.0             Parking/Drop Lot/Garage   \n",
       "2                       1.0                      School/College   \n",
       "3                       1.0                      Residence/Home   \n",
       "4                       1.0  Highway/Road/Alley/Street/Sidewalk   \n",
       "\n",
       "                        BIAS_DESC  VICTIM_TYPES  MULTIPLE_OFFENSE  \\\n",
       "0  Anti-Black or African American    Individual                 S   \n",
       "1                      Anti-White    Individual                 S   \n",
       "2  Anti-Black or African American    Individual                 S   \n",
       "3  Anti-Black or African American    Individual                 S   \n",
       "4  Anti-Black or African American    Individual                 M   \n",
       "\n",
       "  MULTIPLE_BIAS  \n",
       "0             S  \n",
       "1             S  \n",
       "2             S  \n",
       "3             S  \n",
       "4             S  \n",
       "\n",
       "[5 rows x 29 columns]"
      ]
     },
     "execution_count": 3,
     "metadata": {},
     "output_type": "execute_result"
    }
   ],
   "source": [
    "data.head(5)"
   ]
  },
  {
   "cell_type": "markdown",
   "id": "aff193d1-93e1-4b2f-ba07-a2060567b5dd",
   "metadata": {
    "tags": []
   },
   "source": [
    "![green-divider](https://user-images.githubusercontent.com/7065401/52071924-c003ad80-2562-11e9-8297-1c6595f8a7ff.png)\n",
    "## Modify somethings in the Hate Crime dataFrame"
   ]
  },
  {
   "cell_type": "markdown",
   "id": "f7d28b40-01b1-41b2-b5f0-3a97afba927c",
   "metadata": {},
   "source": [
    "### Drop Unnecessary Columns"
   ]
  },
  {
   "cell_type": "code",
   "execution_count": 4,
   "id": "0248b15a-b12d-486e-b3ab-c4d2a38e34b8",
   "metadata": {},
   "outputs": [],
   "source": [
    "data.drop(['Unnamed: 0', 'INCIDENT_ID','DATA_YEAR', 'ORI','STATE_NAME','DIVISION_NAME','REGION_NAME',\n",
    "           'OFFENDER_ETHNICITY','TOTAL_INDIVIDUAL_VICTIMS','MULTIPLE_OFFENSE',\n",
    "           'MULTIPLE_BIAS','ADULT_VICTIM_COUNT','JUVENILE_VICTIM_COUNT',\n",
    "           'ADULT_OFFENDER_COUNT','JUVENILE_OFFENDER_COUNT'], axis=1, inplace=True)"
   ]
  },
  {
   "cell_type": "code",
   "execution_count": 5,
   "id": "c7f7c4c3-22e3-4a4c-b940-b76ff3d75e85",
   "metadata": {},
   "outputs": [
    {
     "data": {
      "text/html": [
       "<div>\n",
       "<style scoped>\n",
       "    .dataframe tbody tr th:only-of-type {\n",
       "        vertical-align: middle;\n",
       "    }\n",
       "\n",
       "    .dataframe tbody tr th {\n",
       "        vertical-align: top;\n",
       "    }\n",
       "\n",
       "    .dataframe thead th {\n",
       "        text-align: right;\n",
       "    }\n",
       "</style>\n",
       "<table border=\"1\" class=\"dataframe\">\n",
       "  <thead>\n",
       "    <tr style=\"text-align: right;\">\n",
       "      <th></th>\n",
       "      <th>PUB_AGENCY_NAME</th>\n",
       "      <th>PUB_AGENCY_UNIT</th>\n",
       "      <th>AGENCY_TYPE_NAME</th>\n",
       "      <th>STATE_ABBR</th>\n",
       "      <th>POPULATION_GROUP_CODE</th>\n",
       "      <th>POPULATION_GROUP_DESC</th>\n",
       "      <th>INCIDENT_DATE</th>\n",
       "      <th>TOTAL_OFFENDER_COUNT</th>\n",
       "      <th>OFFENDER_RACE</th>\n",
       "      <th>VICTIM_COUNT</th>\n",
       "      <th>OFFENSE_NAME</th>\n",
       "      <th>LOCATION_NAME</th>\n",
       "      <th>BIAS_DESC</th>\n",
       "      <th>VICTIM_TYPES</th>\n",
       "    </tr>\n",
       "  </thead>\n",
       "  <tbody>\n",
       "    <tr>\n",
       "      <th>0</th>\n",
       "      <td>University of Illinois:</td>\n",
       "      <td>Urbana</td>\n",
       "      <td>University or College</td>\n",
       "      <td>IL</td>\n",
       "      <td>7</td>\n",
       "      <td>Cities under 2,500</td>\n",
       "      <td>03-JUL-91</td>\n",
       "      <td>0</td>\n",
       "      <td>Unknown</td>\n",
       "      <td>2</td>\n",
       "      <td>Intimidation</td>\n",
       "      <td>School/College</td>\n",
       "      <td>Anti-Black or African American</td>\n",
       "      <td>Individual</td>\n",
       "    </tr>\n",
       "    <tr>\n",
       "      <th>1</th>\n",
       "      <td>Evergreen Park</td>\n",
       "      <td>NaN</td>\n",
       "      <td>City</td>\n",
       "      <td>IL</td>\n",
       "      <td>5</td>\n",
       "      <td>Cities from 10,000 thru 24,999</td>\n",
       "      <td>14-SEP-91</td>\n",
       "      <td>1</td>\n",
       "      <td>Black or African American</td>\n",
       "      <td>1</td>\n",
       "      <td>Murder and Nonnegligent Manslaughter</td>\n",
       "      <td>Parking/Drop Lot/Garage</td>\n",
       "      <td>Anti-White</td>\n",
       "      <td>Individual</td>\n",
       "    </tr>\n",
       "  </tbody>\n",
       "</table>\n",
       "</div>"
      ],
      "text/plain": [
       "           PUB_AGENCY_NAME PUB_AGENCY_UNIT       AGENCY_TYPE_NAME STATE_ABBR  \\\n",
       "0  University of Illinois:          Urbana  University or College         IL   \n",
       "1           Evergreen Park             NaN                   City         IL   \n",
       "\n",
       "  POPULATION_GROUP_CODE           POPULATION_GROUP_DESC INCIDENT_DATE  \\\n",
       "0                     7              Cities under 2,500     03-JUL-91   \n",
       "1                     5  Cities from 10,000 thru 24,999     14-SEP-91   \n",
       "\n",
       "   TOTAL_OFFENDER_COUNT              OFFENDER_RACE  VICTIM_COUNT  \\\n",
       "0                     0                    Unknown             2   \n",
       "1                     1  Black or African American             1   \n",
       "\n",
       "                           OFFENSE_NAME            LOCATION_NAME  \\\n",
       "0                          Intimidation           School/College   \n",
       "1  Murder and Nonnegligent Manslaughter  Parking/Drop Lot/Garage   \n",
       "\n",
       "                        BIAS_DESC VICTIM_TYPES  \n",
       "0  Anti-Black or African American   Individual  \n",
       "1                      Anti-White   Individual  "
      ]
     },
     "execution_count": 5,
     "metadata": {},
     "output_type": "execute_result"
    }
   ],
   "source": [
    "data.head(2)"
   ]
  },
  {
   "cell_type": "code",
   "execution_count": 6,
   "id": "52772a0f-58fd-4f87-a66e-23d642a02a2c",
   "metadata": {},
   "outputs": [
    {
     "data": {
      "text/plain": [
       "(5513, 14)"
      ]
     },
     "execution_count": 6,
     "metadata": {},
     "output_type": "execute_result"
    }
   ],
   "source": [
    "data.shape"
   ]
  },
  {
   "cell_type": "code",
   "execution_count": 7,
   "id": "4aa87fc2-1a80-4184-afb5-644e3436cc6e",
   "metadata": {},
   "outputs": [
    {
     "name": "stdout",
     "output_type": "stream",
     "text": [
      "<class 'pandas.core.frame.DataFrame'>\n",
      "RangeIndex: 5513 entries, 0 to 5512\n",
      "Data columns (total 14 columns):\n",
      " #   Column                 Non-Null Count  Dtype \n",
      "---  ------                 --------------  ----- \n",
      " 0   PUB_AGENCY_NAME        5513 non-null   object\n",
      " 1   PUB_AGENCY_UNIT        79 non-null     object\n",
      " 2   AGENCY_TYPE_NAME       5513 non-null   object\n",
      " 3   STATE_ABBR             5513 non-null   object\n",
      " 4   POPULATION_GROUP_CODE  5513 non-null   object\n",
      " 5   POPULATION_GROUP_DESC  5513 non-null   object\n",
      " 6   INCIDENT_DATE          5513 non-null   object\n",
      " 7   TOTAL_OFFENDER_COUNT   5513 non-null   int64 \n",
      " 8   OFFENDER_RACE          5513 non-null   object\n",
      " 9   VICTIM_COUNT           5513 non-null   int64 \n",
      " 10  OFFENSE_NAME           5513 non-null   object\n",
      " 11  LOCATION_NAME          5513 non-null   object\n",
      " 12  BIAS_DESC              5513 non-null   object\n",
      " 13  VICTIM_TYPES           5513 non-null   object\n",
      "dtypes: int64(2), object(12)\n",
      "memory usage: 603.1+ KB\n"
     ]
    }
   ],
   "source": [
    "data.info()"
   ]
  },
  {
   "cell_type": "markdown",
   "id": "ad2129cb-20e8-4474-bd79-195386c9493e",
   "metadata": {},
   "source": [
    "### Drop Unnecessary Rows"
   ]
  },
  {
   "cell_type": "code",
   "execution_count": 8,
   "id": "097175e9-3168-4b58-a20f-ad16de088dcf",
   "metadata": {},
   "outputs": [],
   "source": [
    "data.drop(data[data['OFFENDER_RACE']=='Unknown'].index, inplace=True)"
   ]
  },
  {
   "cell_type": "code",
   "execution_count": 9,
   "id": "e20dddef-50ec-4d6f-9c63-3fa0ae3b9bab",
   "metadata": {},
   "outputs": [
    {
     "data": {
      "text/html": [
       "<div>\n",
       "<style scoped>\n",
       "    .dataframe tbody tr th:only-of-type {\n",
       "        vertical-align: middle;\n",
       "    }\n",
       "\n",
       "    .dataframe tbody tr th {\n",
       "        vertical-align: top;\n",
       "    }\n",
       "\n",
       "    .dataframe thead th {\n",
       "        text-align: right;\n",
       "    }\n",
       "</style>\n",
       "<table border=\"1\" class=\"dataframe\">\n",
       "  <thead>\n",
       "    <tr style=\"text-align: right;\">\n",
       "      <th></th>\n",
       "      <th>PUB_AGENCY_NAME</th>\n",
       "      <th>PUB_AGENCY_UNIT</th>\n",
       "      <th>AGENCY_TYPE_NAME</th>\n",
       "      <th>STATE_ABBR</th>\n",
       "      <th>POPULATION_GROUP_CODE</th>\n",
       "      <th>POPULATION_GROUP_DESC</th>\n",
       "      <th>INCIDENT_DATE</th>\n",
       "      <th>TOTAL_OFFENDER_COUNT</th>\n",
       "      <th>OFFENDER_RACE</th>\n",
       "      <th>VICTIM_COUNT</th>\n",
       "      <th>OFFENSE_NAME</th>\n",
       "      <th>LOCATION_NAME</th>\n",
       "      <th>BIAS_DESC</th>\n",
       "      <th>VICTIM_TYPES</th>\n",
       "    </tr>\n",
       "  </thead>\n",
       "  <tbody>\n",
       "    <tr>\n",
       "      <th>1</th>\n",
       "      <td>Evergreen Park</td>\n",
       "      <td>NaN</td>\n",
       "      <td>City</td>\n",
       "      <td>IL</td>\n",
       "      <td>5</td>\n",
       "      <td>Cities from 10,000 thru 24,999</td>\n",
       "      <td>14-SEP-91</td>\n",
       "      <td>1</td>\n",
       "      <td>Black or African American</td>\n",
       "      <td>1</td>\n",
       "      <td>Murder and Nonnegligent Manslaughter</td>\n",
       "      <td>Parking/Drop Lot/Garage</td>\n",
       "      <td>Anti-White</td>\n",
       "      <td>Individual</td>\n",
       "    </tr>\n",
       "    <tr>\n",
       "      <th>2</th>\n",
       "      <td>Wheeling</td>\n",
       "      <td>NaN</td>\n",
       "      <td>City</td>\n",
       "      <td>IL</td>\n",
       "      <td>4</td>\n",
       "      <td>Cities from 25,000 thru 49,999</td>\n",
       "      <td>14-FEB-91</td>\n",
       "      <td>1</td>\n",
       "      <td>White</td>\n",
       "      <td>1</td>\n",
       "      <td>Simple Assault</td>\n",
       "      <td>School/College</td>\n",
       "      <td>Anti-Black or African American</td>\n",
       "      <td>Individual</td>\n",
       "    </tr>\n",
       "  </tbody>\n",
       "</table>\n",
       "</div>"
      ],
      "text/plain": [
       "  PUB_AGENCY_NAME PUB_AGENCY_UNIT AGENCY_TYPE_NAME STATE_ABBR  \\\n",
       "1  Evergreen Park             NaN             City         IL   \n",
       "2        Wheeling             NaN             City         IL   \n",
       "\n",
       "  POPULATION_GROUP_CODE           POPULATION_GROUP_DESC INCIDENT_DATE  \\\n",
       "1                     5  Cities from 10,000 thru 24,999     14-SEP-91   \n",
       "2                     4  Cities from 25,000 thru 49,999     14-FEB-91   \n",
       "\n",
       "   TOTAL_OFFENDER_COUNT              OFFENDER_RACE  VICTIM_COUNT  \\\n",
       "1                     1  Black or African American             1   \n",
       "2                     1                      White             1   \n",
       "\n",
       "                           OFFENSE_NAME            LOCATION_NAME  \\\n",
       "1  Murder and Nonnegligent Manslaughter  Parking/Drop Lot/Garage   \n",
       "2                        Simple Assault           School/College   \n",
       "\n",
       "                        BIAS_DESC VICTIM_TYPES  \n",
       "1                      Anti-White   Individual  \n",
       "2  Anti-Black or African American   Individual  "
      ]
     },
     "execution_count": 9,
     "metadata": {},
     "output_type": "execute_result"
    }
   ],
   "source": [
    "data.head(2)"
   ]
  },
  {
   "cell_type": "code",
   "execution_count": 10,
   "id": "cf8e2ed7-dad8-44fe-83f7-9489808fc337",
   "metadata": {},
   "outputs": [
    {
     "data": {
      "text/plain": [
       "(3674, 14)"
      ]
     },
     "execution_count": 10,
     "metadata": {},
     "output_type": "execute_result"
    }
   ],
   "source": [
    "data.shape"
   ]
  },
  {
   "cell_type": "markdown",
   "id": "23b101d3-f753-4097-8b65-26e5777c6a34",
   "metadata": {},
   "source": [
    "### Extract the Day and Month, Year values to separate columns"
   ]
  },
  {
   "cell_type": "code",
   "execution_count": 11,
   "id": "cc1bf130-5501-4de1-9402-2d86b86a119a",
   "metadata": {},
   "outputs": [],
   "source": [
    "data['Day'] =data.apply(lambda row : row['INCIDENT_DATE'].split('-')[0], axis=1)\n",
    "data['Month'] =data.apply(lambda row : row['INCIDENT_DATE'].split('-')[1], axis=1)\n",
    "data['Year'] =data.apply(lambda row : row['INCIDENT_DATE'].split('-')[2], axis=1)"
   ]
  },
  {
   "cell_type": "code",
   "execution_count": 12,
   "id": "43ebcacf-88c7-48b3-b5f8-80121596eeab",
   "metadata": {},
   "outputs": [
    {
     "data": {
      "text/html": [
       "<div>\n",
       "<style scoped>\n",
       "    .dataframe tbody tr th:only-of-type {\n",
       "        vertical-align: middle;\n",
       "    }\n",
       "\n",
       "    .dataframe tbody tr th {\n",
       "        vertical-align: top;\n",
       "    }\n",
       "\n",
       "    .dataframe thead th {\n",
       "        text-align: right;\n",
       "    }\n",
       "</style>\n",
       "<table border=\"1\" class=\"dataframe\">\n",
       "  <thead>\n",
       "    <tr style=\"text-align: right;\">\n",
       "      <th></th>\n",
       "      <th>PUB_AGENCY_NAME</th>\n",
       "      <th>PUB_AGENCY_UNIT</th>\n",
       "      <th>AGENCY_TYPE_NAME</th>\n",
       "      <th>STATE_ABBR</th>\n",
       "      <th>POPULATION_GROUP_CODE</th>\n",
       "      <th>POPULATION_GROUP_DESC</th>\n",
       "      <th>INCIDENT_DATE</th>\n",
       "      <th>TOTAL_OFFENDER_COUNT</th>\n",
       "      <th>OFFENDER_RACE</th>\n",
       "      <th>VICTIM_COUNT</th>\n",
       "      <th>OFFENSE_NAME</th>\n",
       "      <th>LOCATION_NAME</th>\n",
       "      <th>BIAS_DESC</th>\n",
       "      <th>VICTIM_TYPES</th>\n",
       "      <th>Day</th>\n",
       "      <th>Month</th>\n",
       "      <th>Year</th>\n",
       "    </tr>\n",
       "  </thead>\n",
       "  <tbody>\n",
       "    <tr>\n",
       "      <th>1</th>\n",
       "      <td>Evergreen Park</td>\n",
       "      <td>NaN</td>\n",
       "      <td>City</td>\n",
       "      <td>IL</td>\n",
       "      <td>5</td>\n",
       "      <td>Cities from 10,000 thru 24,999</td>\n",
       "      <td>14-SEP-91</td>\n",
       "      <td>1</td>\n",
       "      <td>Black or African American</td>\n",
       "      <td>1</td>\n",
       "      <td>Murder and Nonnegligent Manslaughter</td>\n",
       "      <td>Parking/Drop Lot/Garage</td>\n",
       "      <td>Anti-White</td>\n",
       "      <td>Individual</td>\n",
       "      <td>14</td>\n",
       "      <td>SEP</td>\n",
       "      <td>91</td>\n",
       "    </tr>\n",
       "    <tr>\n",
       "      <th>2</th>\n",
       "      <td>Wheeling</td>\n",
       "      <td>NaN</td>\n",
       "      <td>City</td>\n",
       "      <td>IL</td>\n",
       "      <td>4</td>\n",
       "      <td>Cities from 25,000 thru 49,999</td>\n",
       "      <td>14-FEB-91</td>\n",
       "      <td>1</td>\n",
       "      <td>White</td>\n",
       "      <td>1</td>\n",
       "      <td>Simple Assault</td>\n",
       "      <td>School/College</td>\n",
       "      <td>Anti-Black or African American</td>\n",
       "      <td>Individual</td>\n",
       "      <td>14</td>\n",
       "      <td>FEB</td>\n",
       "      <td>91</td>\n",
       "    </tr>\n",
       "  </tbody>\n",
       "</table>\n",
       "</div>"
      ],
      "text/plain": [
       "  PUB_AGENCY_NAME PUB_AGENCY_UNIT AGENCY_TYPE_NAME STATE_ABBR  \\\n",
       "1  Evergreen Park             NaN             City         IL   \n",
       "2        Wheeling             NaN             City         IL   \n",
       "\n",
       "  POPULATION_GROUP_CODE           POPULATION_GROUP_DESC INCIDENT_DATE  \\\n",
       "1                     5  Cities from 10,000 thru 24,999     14-SEP-91   \n",
       "2                     4  Cities from 25,000 thru 49,999     14-FEB-91   \n",
       "\n",
       "   TOTAL_OFFENDER_COUNT              OFFENDER_RACE  VICTIM_COUNT  \\\n",
       "1                     1  Black or African American             1   \n",
       "2                     1                      White             1   \n",
       "\n",
       "                           OFFENSE_NAME            LOCATION_NAME  \\\n",
       "1  Murder and Nonnegligent Manslaughter  Parking/Drop Lot/Garage   \n",
       "2                        Simple Assault           School/College   \n",
       "\n",
       "                        BIAS_DESC VICTIM_TYPES Day Month Year  \n",
       "1                      Anti-White   Individual  14   SEP   91  \n",
       "2  Anti-Black or African American   Individual  14   FEB   91  "
      ]
     },
     "execution_count": 12,
     "metadata": {},
     "output_type": "execute_result"
    }
   ],
   "source": [
    "data.head(2)"
   ]
  },
  {
   "cell_type": "code",
   "execution_count": 13,
   "id": "44d657c4-93ce-40ea-ba40-31a9cf42dff8",
   "metadata": {},
   "outputs": [
    {
     "data": {
      "text/plain": [
       "(3674, 17)"
      ]
     },
     "execution_count": 13,
     "metadata": {},
     "output_type": "execute_result"
    }
   ],
   "source": [
    "data.shape"
   ]
  },
  {
   "cell_type": "code",
   "execution_count": 14,
   "id": "2d9138d7-b67b-4d80-a5bb-d165ea6db79a",
   "metadata": {},
   "outputs": [
    {
     "name": "stdout",
     "output_type": "stream",
     "text": [
      "<class 'pandas.core.frame.DataFrame'>\n",
      "Int64Index: 3674 entries, 1 to 5512\n",
      "Data columns (total 17 columns):\n",
      " #   Column                 Non-Null Count  Dtype \n",
      "---  ------                 --------------  ----- \n",
      " 0   PUB_AGENCY_NAME        3674 non-null   object\n",
      " 1   PUB_AGENCY_UNIT        51 non-null     object\n",
      " 2   AGENCY_TYPE_NAME       3674 non-null   object\n",
      " 3   STATE_ABBR             3674 non-null   object\n",
      " 4   POPULATION_GROUP_CODE  3674 non-null   object\n",
      " 5   POPULATION_GROUP_DESC  3674 non-null   object\n",
      " 6   INCIDENT_DATE          3674 non-null   object\n",
      " 7   TOTAL_OFFENDER_COUNT   3674 non-null   int64 \n",
      " 8   OFFENDER_RACE          3674 non-null   object\n",
      " 9   VICTIM_COUNT           3674 non-null   int64 \n",
      " 10  OFFENSE_NAME           3674 non-null   object\n",
      " 11  LOCATION_NAME          3674 non-null   object\n",
      " 12  BIAS_DESC              3674 non-null   object\n",
      " 13  VICTIM_TYPES           3674 non-null   object\n",
      " 14  Day                    3674 non-null   object\n",
      " 15  Month                  3674 non-null   object\n",
      " 16  Year                   3674 non-null   object\n",
      "dtypes: int64(2), object(15)\n",
      "memory usage: 516.7+ KB\n"
     ]
    }
   ],
   "source": [
    "data.info()"
   ]
  },
  {
   "cell_type": "markdown",
   "id": "f57c8582-8941-4096-8550-8a312f53f9db",
   "metadata": {},
   "source": [
    "### Replace some value of the column BIAS_DESC"
   ]
  },
  {
   "cell_type": "code",
   "execution_count": 15,
   "id": "84de8437-1fc7-4d47-85cb-4364d46bc3b1",
   "metadata": {},
   "outputs": [],
   "source": [
    "data['BIAS_DESC'].replace('Anti-Lesbian, Gay, Bisexual, or Transgender (Mixed Group)','Anti-LGTB(Mixed Group)',inplace=True)"
   ]
  },
  {
   "cell_type": "code",
   "execution_count": 16,
   "id": "c57f39f8-4359-4d7b-83aa-ec02b67c33c0",
   "metadata": {},
   "outputs": [
    {
     "data": {
      "text/html": [
       "<div>\n",
       "<style scoped>\n",
       "    .dataframe tbody tr th:only-of-type {\n",
       "        vertical-align: middle;\n",
       "    }\n",
       "\n",
       "    .dataframe tbody tr th {\n",
       "        vertical-align: top;\n",
       "    }\n",
       "\n",
       "    .dataframe thead th {\n",
       "        text-align: right;\n",
       "    }\n",
       "</style>\n",
       "<table border=\"1\" class=\"dataframe\">\n",
       "  <thead>\n",
       "    <tr style=\"text-align: right;\">\n",
       "      <th></th>\n",
       "      <th>TOTAL_OFFENDER_COUNT</th>\n",
       "      <th>VICTIM_COUNT</th>\n",
       "    </tr>\n",
       "  </thead>\n",
       "  <tbody>\n",
       "    <tr>\n",
       "      <th>count</th>\n",
       "      <td>3674.000000</td>\n",
       "      <td>3674.000000</td>\n",
       "    </tr>\n",
       "    <tr>\n",
       "      <th>mean</th>\n",
       "      <td>2.055525</td>\n",
       "      <td>1.354654</td>\n",
       "    </tr>\n",
       "    <tr>\n",
       "      <th>std</th>\n",
       "      <td>2.682118</td>\n",
       "      <td>0.864473</td>\n",
       "    </tr>\n",
       "    <tr>\n",
       "      <th>min</th>\n",
       "      <td>1.000000</td>\n",
       "      <td>1.000000</td>\n",
       "    </tr>\n",
       "    <tr>\n",
       "      <th>25%</th>\n",
       "      <td>1.000000</td>\n",
       "      <td>1.000000</td>\n",
       "    </tr>\n",
       "    <tr>\n",
       "      <th>50%</th>\n",
       "      <td>1.000000</td>\n",
       "      <td>1.000000</td>\n",
       "    </tr>\n",
       "    <tr>\n",
       "      <th>75%</th>\n",
       "      <td>2.000000</td>\n",
       "      <td>1.000000</td>\n",
       "    </tr>\n",
       "    <tr>\n",
       "      <th>max</th>\n",
       "      <td>50.000000</td>\n",
       "      <td>14.000000</td>\n",
       "    </tr>\n",
       "  </tbody>\n",
       "</table>\n",
       "</div>"
      ],
      "text/plain": [
       "       TOTAL_OFFENDER_COUNT  VICTIM_COUNT\n",
       "count           3674.000000   3674.000000\n",
       "mean               2.055525      1.354654\n",
       "std                2.682118      0.864473\n",
       "min                1.000000      1.000000\n",
       "25%                1.000000      1.000000\n",
       "50%                1.000000      1.000000\n",
       "75%                2.000000      1.000000\n",
       "max               50.000000     14.000000"
      ]
     },
     "execution_count": 16,
     "metadata": {},
     "output_type": "execute_result"
    }
   ],
   "source": [
    "data.describe()"
   ]
  },
  {
   "cell_type": "markdown",
   "id": "6fbda296-d95e-4c27-95d5-f8b19a91f931",
   "metadata": {},
   "source": [
    "![green-divider](https://user-images.githubusercontent.com/7065401/52071924-c003ad80-2562-11e9-8297-1c6595f8a7ff.png)"
   ]
  },
  {
   "cell_type": "markdown",
   "id": "250b6119-dbd0-4996-93f6-1c3ef2ec1512",
   "metadata": {},
   "source": [
    "## Visualize"
   ]
  },
  {
   "cell_type": "markdown",
   "id": "818bb790-82d2-4457-a1e8-f79631678ea3",
   "metadata": {},
   "source": [
    "#### The offender's race in Illinois state"
   ]
  },
  {
   "cell_type": "code",
   "execution_count": 17,
   "id": "f7112b9d-a9b8-4002-b9d5-649f59716972",
   "metadata": {},
   "outputs": [
    {
     "data": {
      "text/plain": [
       "White                        2320\n",
       "Black or African American    1229\n",
       "Multiple                       92\n",
       "Asian                          31\n",
       "Name: OFFENDER_RACE, dtype: int64"
      ]
     },
     "execution_count": 17,
     "metadata": {},
     "output_type": "execute_result"
    }
   ],
   "source": [
    "data['OFFENDER_RACE'].value_counts().head(4)"
   ]
  },
  {
   "cell_type": "code",
   "execution_count": 18,
   "id": "c6b8d00b-c5ab-4300-acba-60bd6489769a",
   "metadata": {},
   "outputs": [
    {
     "data": {
      "image/png": "[encoded data removed]",
      "text/plain": [
       "<Figure size 576x648 with 1 Axes>"
      ]
     },
     "metadata": {},
     "output_type": "display_data"
    }
   ],
   "source": [
    "data['OFFENDER_RACE'].value_counts().head(4).plot(kind='pie',figsize=(8,9), radius=1.2, autopct='%0.1f%%', shadow=True,\n",
    "                                                  explode=[0,0,0,0.1],startangle=50,fontsize=13,rotatelabels=True,\n",
    "                                                  labeldistance=1.1,pctdistance=0.8)\n",
    "plt.title('Offenders Race',fontsize=15)\n",
    "plt.legend(loc='upper left')\n",
    "plt.show()"
   ]
  },
  {
   "cell_type": "markdown",
   "id": "b5ec6eac-f6ec-40ac-8c19-590745fc0415",
   "metadata": {},
   "source": [
    "#### Groups that were targeted by hate crimes in Illinois state"
   ]
  },
  {
   "cell_type": "code",
   "execution_count": 19,
   "id": "320cbf1e-66c8-4f6b-9f64-83f75716d545",
   "metadata": {},
   "outputs": [
    {
     "data": {
      "text/plain": [
       "Anti-Black or African American        1455\n",
       "Anti-White                             752\n",
       "Anti-Gay (Male)                        520\n",
       "Anti-Hispanic or Latino                194\n",
       "Anti-Jewish                            131\n",
       "Anti-Other Race/Ethnicity/Ancestry     116\n",
       "Anti-Arab                               92\n",
       "Anti-Asian                              91\n",
       "Anti-LGTB(Mixed Group)                  62\n",
       "Anti-Multiple Races, Group              61\n",
       "Name: BIAS_DESC, dtype: int64"
      ]
     },
     "execution_count": 19,
     "metadata": {},
     "output_type": "execute_result"
    }
   ],
   "source": [
    "data['BIAS_DESC'].value_counts().head(10)"
   ]
  },
  {
   "cell_type": "code",
   "execution_count": 20,
   "id": "87a0f205-7722-47ec-bd68-9981bd360621",
   "metadata": {},
   "outputs": [
    {
     "data": {
      "image/png": "[encoded data removed]",
      "text/plain": [
       "<Figure size 1008x432 with 1 Axes>"
      ]
     },
     "metadata": {
      "needs_background": "light"
     },
     "output_type": "display_data"
    }
   ],
   "source": [
    "ax = data['BIAS_DESC'].value_counts().head(10).plot(kind='bar', figsize=(14,6))\n",
    "plt.ylabel('VICTIM COUNT',fontsize=15)\n",
    "plt.xlabel('Bias Description',fontsize=15)\n",
    "plt.xticks(rotation=30, ha=\"center\", va=\"center\")\n",
    "plt.tick_params(axis='x', which='major', pad=60)\n",
    "plt.title('Targeted Groups By Hate Crimes',fontsize=15)\n",
    "plt.legend()\n",
    "plt.show()"
   ]
  },
  {
   "cell_type": "markdown",
   "id": "10e520a5-81d9-406e-9930-c073f609e4a0",
   "metadata": {},
   "source": [
    "#### Groups that were targeted by the White offenders in Illinois state"
   ]
  },
  {
   "cell_type": "code",
   "execution_count": 21,
   "id": "79218784-076b-43e2-bb20-7be68655b7a4",
   "metadata": {},
   "outputs": [
    {
     "data": {
      "text/plain": [
       "Anti-Black or African American        1333\n",
       "Anti-Gay (Male)                        265\n",
       "Anti-Hispanic or Latino                133\n",
       "Anti-Jewish                            109\n",
       "Anti-Other Race/Ethnicity/Ancestry      92\n",
       "Anti-White                              65\n",
       "Anti-Asian                              62\n",
       "Anti-Arab                               54\n",
       "Anti-Islamic (Muslim)                   43\n",
       "Anti-LGTB(Mixed Group)                  41\n",
       "Name: BIAS_DESC, dtype: int64"
      ]
     },
     "execution_count": 21,
     "metadata": {},
     "output_type": "execute_result"
    }
   ],
   "source": [
    "data.loc[data['OFFENDER_RACE'] == 'White', 'BIAS_DESC'].value_counts().head(10)"
   ]
  },
  {
   "cell_type": "code",
   "execution_count": 22,
   "id": "7dfa4184-7630-4a62-9fd2-79d8780082db",
   "metadata": {},
   "outputs": [],
   "source": [
    "#data.loc[data['OFFENDER_RACE'] == 'White', 'BIAS_DESC'].value_counts().head(10).plot(kind='pie',figsize=(8,8),radius=1.2,startangle=0, \n",
    "                                                                                     #autopct='%0.1f%%',shadow=True,fontsize=14,\n",
    "                                                                                     #labeldistance=1.05,pctdistance=0.8)\n",
    "#plt.title('Targeted Groups By White Offenders')\n",
    "#plt.legend(loc='upper right', prop={'size':9})\n",
    "#plt.show()"
   ]
  },
  {
   "cell_type": "markdown",
   "id": "9b3f686a-7639-4ec4-875b-c619543f53c9",
   "metadata": {},
   "source": [
    "#### Groups that were targeted by the Black or African American offenders in Illinois state"
   ]
  },
  {
   "cell_type": "code",
   "execution_count": 23,
   "id": "92daef79-345e-43aa-b244-86cdea8704d9",
   "metadata": {},
   "outputs": [
    {
     "data": {
      "text/plain": [
       "Anti-White                            657\n",
       "Anti-Gay (Male)                       235\n",
       "Anti-Black or African American         84\n",
       "Anti-Hispanic or Latino                54\n",
       "Anti-Arab                              36\n",
       "Anti-Lesbian (Female)                  25\n",
       "Anti-Asian                             25\n",
       "Anti-Other Race/Ethnicity/Ancestry     19\n",
       "Anti-Multiple Races, Group             19\n",
       "Anti-LGTB(Mixed Group)                 19\n",
       "Name: BIAS_DESC, dtype: int64"
      ]
     },
     "execution_count": 23,
     "metadata": {},
     "output_type": "execute_result"
    }
   ],
   "source": [
    "data.loc[data['OFFENDER_RACE'] == 'Black or African American', 'BIAS_DESC'].value_counts().head(10)"
   ]
  },
  {
   "cell_type": "markdown",
   "id": "1d659374-d33f-433b-92b3-edf12e4706f2",
   "metadata": {},
   "source": [
    "#### Groups that were targeted by the Asian offenders in Illinois state"
   ]
  },
  {
   "cell_type": "code",
   "execution_count": 24,
   "id": "0d5c7d82-28fd-4d12-b536-bd699b40d26d",
   "metadata": {},
   "outputs": [
    {
     "data": {
      "text/plain": [
       "Anti-Black or African American        9\n",
       "Anti-White                            6\n",
       "Anti-Gay (Male)                       5\n",
       "Anti-Jewish                           3\n",
       "Anti-Hispanic or Latino               2\n",
       "Anti-Asian                            2\n",
       "Anti-Arab                             1\n",
       "Anti-Other Race/Ethnicity/Ancestry    1\n",
       "Anti-Other Religion                   1\n",
       "Anti-Buddhist                         1\n",
       "Name: BIAS_DESC, dtype: int64"
      ]
     },
     "execution_count": 24,
     "metadata": {},
     "output_type": "execute_result"
    }
   ],
   "source": [
    "data.loc[data['OFFENDER_RACE'] == 'Asian', 'BIAS_DESC'].value_counts().head(10)"
   ]
  },
  {
   "cell_type": "code",
   "execution_count": null,
   "id": "51f1cb44-9c42-4f2c-90cc-a04a48ceff20",
   "metadata": {},
   "outputs": [],
   "source": []
  },
  {
   "cell_type": "code",
   "execution_count": 25,
   "id": "3fdb5090-1734-42d0-a329-ab7d69998ecf",
   "metadata": {},
   "outputs": [],
   "source": [
    "categories = list(data['OFFENDER_RACE'].value_counts().keys())"
   ]
  },
  {
   "cell_type": "code",
   "execution_count": 26,
   "id": "ab7f2ae1-7fdd-43cf-aa83-4e54b8a09398",
   "metadata": {},
   "outputs": [
    {
     "data": {
      "text/plain": [
       "['White',\n",
       " 'Black or African American',\n",
       " 'Multiple',\n",
       " 'Asian',\n",
       " 'American Indian or Alaska Native']"
      ]
     },
     "execution_count": 26,
     "metadata": {},
     "output_type": "execute_result"
    }
   ],
   "source": [
    "categories"
   ]
  },
  {
   "cell_type": "code",
   "execution_count": 27,
   "id": "9f536724-08dc-4299-81b7-4d01bd5635cd",
   "metadata": {},
   "outputs": [],
   "source": [
    "dict = {}\n",
    "for category in categories:\n",
    "    dict[category] = data.loc[data['OFFENDER_RACE']== category,'BIAS_DESC'].value_counts().head(7)"
   ]
  },
  {
   "cell_type": "code",
   "execution_count": 28,
   "id": "f82f282c-6ba5-4c42-8fd6-42227dc4d069",
   "metadata": {},
   "outputs": [
    {
     "data": {
      "text/html": [
       "<div>\n",
       "<style scoped>\n",
       "    .dataframe tbody tr th:only-of-type {\n",
       "        vertical-align: middle;\n",
       "    }\n",
       "\n",
       "    .dataframe tbody tr th {\n",
       "        vertical-align: top;\n",
       "    }\n",
       "\n",
       "    .dataframe thead th {\n",
       "        text-align: right;\n",
       "    }\n",
       "</style>\n",
       "<table border=\"1\" class=\"dataframe\">\n",
       "  <thead>\n",
       "    <tr style=\"text-align: right;\">\n",
       "      <th></th>\n",
       "      <th>White</th>\n",
       "      <th>Black or African American</th>\n",
       "      <th>Multiple</th>\n",
       "      <th>Asian</th>\n",
       "      <th>American Indian or Alaska Native</th>\n",
       "    </tr>\n",
       "  </thead>\n",
       "  <tbody>\n",
       "    <tr>\n",
       "      <th>Anti-Arab</th>\n",
       "      <td>NaN</td>\n",
       "      <td>36.0</td>\n",
       "      <td>NaN</td>\n",
       "      <td>1.0</td>\n",
       "      <td>NaN</td>\n",
       "    </tr>\n",
       "    <tr>\n",
       "      <th>Anti-Asian</th>\n",
       "      <td>62.0</td>\n",
       "      <td>25.0</td>\n",
       "      <td>NaN</td>\n",
       "      <td>2.0</td>\n",
       "      <td>1.0</td>\n",
       "    </tr>\n",
       "    <tr>\n",
       "      <th>Anti-Black or African American</th>\n",
       "      <td>1333.0</td>\n",
       "      <td>84.0</td>\n",
       "      <td>29.0</td>\n",
       "      <td>9.0</td>\n",
       "      <td>NaN</td>\n",
       "    </tr>\n",
       "    <tr>\n",
       "      <th>Anti-Gay (Male)</th>\n",
       "      <td>265.0</td>\n",
       "      <td>235.0</td>\n",
       "      <td>15.0</td>\n",
       "      <td>5.0</td>\n",
       "      <td>NaN</td>\n",
       "    </tr>\n",
       "    <tr>\n",
       "      <th>Anti-Hispanic or Latino</th>\n",
       "      <td>133.0</td>\n",
       "      <td>54.0</td>\n",
       "      <td>5.0</td>\n",
       "      <td>2.0</td>\n",
       "      <td>NaN</td>\n",
       "    </tr>\n",
       "    <tr>\n",
       "      <th>Anti-Jewish</th>\n",
       "      <td>109.0</td>\n",
       "      <td>NaN</td>\n",
       "      <td>5.0</td>\n",
       "      <td>3.0</td>\n",
       "      <td>1.0</td>\n",
       "    </tr>\n",
       "    <tr>\n",
       "      <th>Anti-Lesbian (Female)</th>\n",
       "      <td>NaN</td>\n",
       "      <td>25.0</td>\n",
       "      <td>NaN</td>\n",
       "      <td>NaN</td>\n",
       "      <td>NaN</td>\n",
       "    </tr>\n",
       "    <tr>\n",
       "      <th>Anti-Multiple Races, Group</th>\n",
       "      <td>NaN</td>\n",
       "      <td>NaN</td>\n",
       "      <td>3.0</td>\n",
       "      <td>NaN</td>\n",
       "      <td>NaN</td>\n",
       "    </tr>\n",
       "    <tr>\n",
       "      <th>Anti-Other Race/Ethnicity/Ancestry</th>\n",
       "      <td>92.0</td>\n",
       "      <td>NaN</td>\n",
       "      <td>4.0</td>\n",
       "      <td>NaN</td>\n",
       "      <td>NaN</td>\n",
       "    </tr>\n",
       "    <tr>\n",
       "      <th>Anti-White</th>\n",
       "      <td>65.0</td>\n",
       "      <td>657.0</td>\n",
       "      <td>24.0</td>\n",
       "      <td>6.0</td>\n",
       "      <td>NaN</td>\n",
       "    </tr>\n",
       "  </tbody>\n",
       "</table>\n",
       "</div>"
      ],
      "text/plain": [
       "                                     White  Black or African American  \\\n",
       "Anti-Arab                              NaN                       36.0   \n",
       "Anti-Asian                            62.0                       25.0   \n",
       "Anti-Black or African American      1333.0                       84.0   \n",
       "Anti-Gay (Male)                      265.0                      235.0   \n",
       "Anti-Hispanic or Latino              133.0                       54.0   \n",
       "Anti-Jewish                          109.0                        NaN   \n",
       "Anti-Lesbian (Female)                  NaN                       25.0   \n",
       "Anti-Multiple Races, Group             NaN                        NaN   \n",
       "Anti-Other Race/Ethnicity/Ancestry    92.0                        NaN   \n",
       "Anti-White                            65.0                      657.0   \n",
       "\n",
       "                                    Multiple  Asian  \\\n",
       "Anti-Arab                                NaN    1.0   \n",
       "Anti-Asian                               NaN    2.0   \n",
       "Anti-Black or African American          29.0    9.0   \n",
       "Anti-Gay (Male)                         15.0    5.0   \n",
       "Anti-Hispanic or Latino                  5.0    2.0   \n",
       "Anti-Jewish                              5.0    3.0   \n",
       "Anti-Lesbian (Female)                    NaN    NaN   \n",
       "Anti-Multiple Races, Group               3.0    NaN   \n",
       "Anti-Other Race/Ethnicity/Ancestry       4.0    NaN   \n",
       "Anti-White                              24.0    6.0   \n",
       "\n",
       "                                    American Indian or Alaska Native  \n",
       "Anti-Arab                                                        NaN  \n",
       "Anti-Asian                                                       1.0  \n",
       "Anti-Black or African American                                   NaN  \n",
       "Anti-Gay (Male)                                                  NaN  \n",
       "Anti-Hispanic or Latino                                          NaN  \n",
       "Anti-Jewish                                                      1.0  \n",
       "Anti-Lesbian (Female)                                            NaN  \n",
       "Anti-Multiple Races, Group                                       NaN  \n",
       "Anti-Other Race/Ethnicity/Ancestry                               NaN  \n",
       "Anti-White                                                       NaN  "
      ]
     },
     "execution_count": 28,
     "metadata": {},
     "output_type": "execute_result"
    }
   ],
   "source": [
    "pd.DataFrame(dict)"
   ]
  },
  {
   "cell_type": "code",
   "execution_count": 29,
   "id": "f97f89af-6943-4b90-b6ca-92ed06164483",
   "metadata": {},
   "outputs": [],
   "source": [
    "murderers_victims_df = pd.DataFrame(dict)\n",
    "for col in murderers_victims_df:\n",
    "    murderers_victims_df.replace(np.nan, 0, inplace=True)\n",
    "    "
   ]
  },
  {
   "cell_type": "code",
   "execution_count": 30,
   "id": "6312aee2-18e0-4646-b340-378f44dd2ab7",
   "metadata": {},
   "outputs": [
    {
     "name": "stderr",
     "output_type": "stream",
     "text": [
      "C:\\Users\\ITEK\\AppData\\Local\\Temp/ipykernel_13284/2771238717.py:1: FutureWarning: In a future version of pandas all arguments of DataFrame.drop except for the argument 'labels' will be keyword-only\n",
      "  murderers_victims_df = murderers_victims_df.assign(tmp=murderers_victims_df.sum(axis=1)).sort_values('tmp', ascending=False).drop('tmp', 1).head(7)\n"
     ]
    }
   ],
   "source": [
    "murderers_victims_df = murderers_victims_df.assign(tmp=murderers_victims_df.sum(axis=1)).sort_values('tmp', ascending=False).drop('tmp', 1).head(7)"
   ]
  },
  {
   "cell_type": "code",
   "execution_count": 31,
   "id": "d6bbe3a3-7773-427e-b3c0-e08d484f34d1",
   "metadata": {},
   "outputs": [
    {
     "data": {
      "text/html": [
       "<div>\n",
       "<style scoped>\n",
       "    .dataframe tbody tr th:only-of-type {\n",
       "        vertical-align: middle;\n",
       "    }\n",
       "\n",
       "    .dataframe tbody tr th {\n",
       "        vertical-align: top;\n",
       "    }\n",
       "\n",
       "    .dataframe thead th {\n",
       "        text-align: right;\n",
       "    }\n",
       "</style>\n",
       "<table border=\"1\" class=\"dataframe\">\n",
       "  <thead>\n",
       "    <tr style=\"text-align: right;\">\n",
       "      <th></th>\n",
       "      <th>White</th>\n",
       "      <th>Black or African American</th>\n",
       "      <th>Multiple</th>\n",
       "      <th>Asian</th>\n",
       "      <th>American Indian or Alaska Native</th>\n",
       "    </tr>\n",
       "  </thead>\n",
       "  <tbody>\n",
       "    <tr>\n",
       "      <th>Anti-Black or African American</th>\n",
       "      <td>1333.0</td>\n",
       "      <td>84.0</td>\n",
       "      <td>29.0</td>\n",
       "      <td>9.0</td>\n",
       "      <td>0.0</td>\n",
       "    </tr>\n",
       "    <tr>\n",
       "      <th>Anti-White</th>\n",
       "      <td>65.0</td>\n",
       "      <td>657.0</td>\n",
       "      <td>24.0</td>\n",
       "      <td>6.0</td>\n",
       "      <td>0.0</td>\n",
       "    </tr>\n",
       "    <tr>\n",
       "      <th>Anti-Gay (Male)</th>\n",
       "      <td>265.0</td>\n",
       "      <td>235.0</td>\n",
       "      <td>15.0</td>\n",
       "      <td>5.0</td>\n",
       "      <td>0.0</td>\n",
       "    </tr>\n",
       "    <tr>\n",
       "      <th>Anti-Hispanic or Latino</th>\n",
       "      <td>133.0</td>\n",
       "      <td>54.0</td>\n",
       "      <td>5.0</td>\n",
       "      <td>2.0</td>\n",
       "      <td>0.0</td>\n",
       "    </tr>\n",
       "    <tr>\n",
       "      <th>Anti-Jewish</th>\n",
       "      <td>109.0</td>\n",
       "      <td>0.0</td>\n",
       "      <td>5.0</td>\n",
       "      <td>3.0</td>\n",
       "      <td>1.0</td>\n",
       "    </tr>\n",
       "    <tr>\n",
       "      <th>Anti-Other Race/Ethnicity/Ancestry</th>\n",
       "      <td>92.0</td>\n",
       "      <td>0.0</td>\n",
       "      <td>4.0</td>\n",
       "      <td>0.0</td>\n",
       "      <td>0.0</td>\n",
       "    </tr>\n",
       "    <tr>\n",
       "      <th>Anti-Asian</th>\n",
       "      <td>62.0</td>\n",
       "      <td>25.0</td>\n",
       "      <td>0.0</td>\n",
       "      <td>2.0</td>\n",
       "      <td>1.0</td>\n",
       "    </tr>\n",
       "  </tbody>\n",
       "</table>\n",
       "</div>"
      ],
      "text/plain": [
       "                                     White  Black or African American  \\\n",
       "Anti-Black or African American      1333.0                       84.0   \n",
       "Anti-White                            65.0                      657.0   \n",
       "Anti-Gay (Male)                      265.0                      235.0   \n",
       "Anti-Hispanic or Latino              133.0                       54.0   \n",
       "Anti-Jewish                          109.0                        0.0   \n",
       "Anti-Other Race/Ethnicity/Ancestry    92.0                        0.0   \n",
       "Anti-Asian                            62.0                       25.0   \n",
       "\n",
       "                                    Multiple  Asian  \\\n",
       "Anti-Black or African American          29.0    9.0   \n",
       "Anti-White                              24.0    6.0   \n",
       "Anti-Gay (Male)                         15.0    5.0   \n",
       "Anti-Hispanic or Latino                  5.0    2.0   \n",
       "Anti-Jewish                              5.0    3.0   \n",
       "Anti-Other Race/Ethnicity/Ancestry       4.0    0.0   \n",
       "Anti-Asian                               0.0    2.0   \n",
       "\n",
       "                                    American Indian or Alaska Native  \n",
       "Anti-Black or African American                                   0.0  \n",
       "Anti-White                                                       0.0  \n",
       "Anti-Gay (Male)                                                  0.0  \n",
       "Anti-Hispanic or Latino                                          0.0  \n",
       "Anti-Jewish                                                      1.0  \n",
       "Anti-Other Race/Ethnicity/Ancestry                               0.0  \n",
       "Anti-Asian                                                       1.0  "
      ]
     },
     "execution_count": 31,
     "metadata": {},
     "output_type": "execute_result"
    }
   ],
   "source": [
    "murderers_victims_df"
   ]
  },
  {
   "cell_type": "code",
   "execution_count": 32,
   "id": "623fe7a1-c059-4aff-b13d-a72c72e31c2c",
   "metadata": {},
   "outputs": [
    {
     "data": {
      "text/plain": [
       "White                               2059.0\n",
       "Black or African American           1116.0\n",
       "Multiple                              85.0\n",
       "Asian                                 28.0\n",
       "American Indian or Alaska Native       2.0\n",
       "dtype: float64"
      ]
     },
     "execution_count": 32,
     "metadata": {},
     "output_type": "execute_result"
    }
   ],
   "source": [
    "pd.DataFrame(dict).sum()"
   ]
  },
  {
   "cell_type": "code",
   "execution_count": 33,
   "id": "ac86c31f-9f72-47bc-a972-6b3abf39b922",
   "metadata": {},
   "outputs": [
    {
     "data": {
      "image/png": "[encoded data removed]",
      "text/plain": [
       "<Figure size 1152x504 with 1 Axes>"
      ]
     },
     "metadata": {
      "needs_background": "light"
     },
     "output_type": "display_data"
    }
   ],
   "source": [
    "murderers_victims_df.plot(kind='bar',figsize=(16,7),log=True)\n",
    "plt.ylabel('VICTIM COUNT',fontsize=15)\n",
    "plt.xlabel('Bias Description',fontsize=15)\n",
    "plt.xticks(rotation=25, ha=\"center\", va=\"center\")\n",
    "plt.tick_params(axis='x', which='major', pad=40)\n",
    "plt.title('Targeted Groups By Hate Crimes',fontsize=15)\n",
    "plt.legend()\n",
    "plt.show()"
   ]
  },
  {
   "cell_type": "markdown",
   "id": "b96ce79b-967d-4684-b8d4-3a99e6d6bdeb",
   "metadata": {},
   "source": [
    "#### The highest 10 years with hate crimes in Illinois state."
   ]
  },
  {
   "cell_type": "code",
   "execution_count": 34,
   "id": "7c947456-6d7b-4181-8e1c-774c74b79291",
   "metadata": {},
   "outputs": [
    {
     "data": {
      "text/plain": [
       "93    494\n",
       "97    242\n",
       "96    229\n",
       "98    201\n",
       "92    200\n",
       "01    184\n",
       "99    168\n",
       "94    138\n",
       "03    126\n",
       "04    123\n",
       "Name: Year, dtype: int64"
      ]
     },
     "execution_count": 34,
     "metadata": {},
     "output_type": "execute_result"
    }
   ],
   "source": [
    "data['Year'].value_counts().head(10)"
   ]
  },
  {
   "cell_type": "code",
   "execution_count": 35,
   "id": "a093151c-b941-4e88-b622-614839433ebc",
   "metadata": {},
   "outputs": [
    {
     "data": {
      "image/png": "[encoded data removed]",
      "text/plain": [
       "<Figure size 576x576 with 1 Axes>"
      ]
     },
     "metadata": {},
     "output_type": "display_data"
    }
   ],
   "source": [
    "data['Year'].value_counts().head(10).plot(kind='pie',figsize=(8,8),radius=1.2,startangle=20,autopct='%0.1f%%',\n",
    "      shadow=True,fontsize=14,labeldistance=1.05,pctdistance=0.8)\n",
    "\n",
    "plt.title('The highest 10 years with hate crimes',fontsize=15)\n",
    "plt.legend(loc='upper right', prop={'size':9})\n",
    "plt.show()"
   ]
  },
  {
   "cell_type": "markdown",
   "id": "6d84c023-846a-490f-a516-808c099e22d8",
   "metadata": {},
   "source": [
    "#### The highest 10 cities with hate crimes in Illinois state."
   ]
  },
  {
   "cell_type": "code",
   "execution_count": 36,
   "id": "6ed9e646-8a9b-45ac-bf07-f4870dbdc0ca",
   "metadata": {},
   "outputs": [
    {
     "data": {
      "text/plain": [
       "Chicago        1456\n",
       "Peoria          289\n",
       "Springfield     159\n",
       "Champaign        96\n",
       "Urbana           77\n",
       "Rockford         71\n",
       "Normal           53\n",
       "Evanston         51\n",
       "Alorton          47\n",
       "Skokie           46\n",
       "Name: PUB_AGENCY_NAME, dtype: int64"
      ]
     },
     "execution_count": 36,
     "metadata": {},
     "output_type": "execute_result"
    }
   ],
   "source": [
    "data['PUB_AGENCY_NAME'].value_counts().head(10)"
   ]
  },
  {
   "cell_type": "code",
   "execution_count": 37,
   "id": "9b6a3657-d31d-4325-a04c-153bb0d95cc2",
   "metadata": {},
   "outputs": [
    {
     "data": {
      "image/png": "[encoded data removed]",
      "text/plain": [
       "<Figure size 1008x432 with 1 Axes>"
      ]
     },
     "metadata": {
      "needs_background": "light"
     },
     "output_type": "display_data"
    }
   ],
   "source": [
    "data['PUB_AGENCY_NAME'].value_counts().head(10).plot(kind='bar', figsize=(14,6))\n",
    "plt.ylabel('VICTIM COUNT',fontsize=15)\n",
    "plt.xlabel('Cities',fontsize=15)\n",
    "plt.xticks(rotation=20)\n",
    "plt.title('cities with high hate crimes',fontsize=15)\n",
    "plt.show()"
   ]
  },
  {
   "cell_type": "markdown",
   "id": "afcca20b-4eeb-4486-b9d8-70e93980376c",
   "metadata": {},
   "source": [
    "#### The order of the months with hate crimes from the highest to lowest in Illinois state."
   ]
  },
  {
   "cell_type": "code",
   "execution_count": 38,
   "id": "160e6921-bb8b-481c-adf8-fbdad0e5236d",
   "metadata": {},
   "outputs": [
    {
     "data": {
      "text/plain": [
       "MAY    395\n",
       "JUL    377\n",
       "JUN    367\n",
       "APR    354\n",
       "SEP    343\n",
       "AUG    318\n",
       "MAR    315\n",
       "OCT    312\n",
       "FEB    254\n",
       "NOV    235\n",
       "JAN    231\n",
       "DEC    173\n",
       "Name: Month, dtype: int64"
      ]
     },
     "execution_count": 38,
     "metadata": {},
     "output_type": "execute_result"
    }
   ],
   "source": [
    "data['Month'].value_counts()"
   ]
  },
  {
   "cell_type": "code",
   "execution_count": 39,
   "id": "4d2f77e7-8298-4a63-b7e4-fa0a69cb3b19",
   "metadata": {},
   "outputs": [
    {
     "data": {
      "image/png": "[encoded data removed]",
      "text/plain": [
       "<Figure size 1008x432 with 1 Axes>"
      ]
     },
     "metadata": {
      "needs_background": "light"
     },
     "output_type": "display_data"
    }
   ],
   "source": [
    "data['Month'].value_counts().plot(kind='bar', figsize=(14,6))\n",
    "plt.ylabel('VICTIM COUNT',fontsize=15)\n",
    "plt.xlabel('Months',fontsize=15)\n",
    "plt.xticks(rotation=20)\n",
    "plt.title('Months with hate crimes',fontsize=15)\n",
    "plt.show()"
   ]
  },
  {
   "cell_type": "markdown",
   "id": "40bcd8ba-429d-4413-b192-b212858f005c",
   "metadata": {},
   "source": [
    "#### The name of most schools with hate crimes occurred in Illinois state."
   ]
  },
  {
   "cell_type": "code",
   "execution_count": 66,
   "id": "87471042-4bd1-40f9-9abe-8bb0ebab5d41",
   "metadata": {},
   "outputs": [
    {
     "data": {
      "text/plain": [
       "Southern Illinois University:    14\n",
       "University of Illinois:          12\n",
       "Northern Illinois University     11\n",
       "Western Illinois University      10\n",
       "Oakton Community College          4\n",
       "Illinois State University         3\n",
       "Parkland College                  3\n",
       "Loyola University of Chicago      2\n",
       "Joliet Junior College             2\n",
       "College of DuPage                 2\n",
       "Governors State University        1\n",
       "Eastern Illinois University       1\n",
       "Triton College                    1\n",
       "Name: PUB_AGENCY_NAME, dtype: int64"
      ]
     },
     "execution_count": 66,
     "metadata": {},
     "output_type": "execute_result"
    }
   ],
   "source": [
    "data.loc[data['AGENCY_TYPE_NAME']== 'University or College','PUB_AGENCY_NAME'].value_counts().head(30)"
   ]
  },
  {
   "cell_type": "code",
   "execution_count": 41,
   "id": "b57eccc0-0177-4f78-9060-87afef9f6b3e",
   "metadata": {},
   "outputs": [
    {
     "data": {
      "image/png": "[encoded data removed]",
      "text/plain": [
       "<Figure size 1008x432 with 1 Axes>"
      ]
     },
     "metadata": {
      "needs_background": "light"
     },
     "output_type": "display_data"
    }
   ],
   "source": [
    "data.loc[data['AGENCY_TYPE_NAME']== 'University or College','PUB_AGENCY_NAME'].value_counts().head(10).plot(kind='bar', figsize=(14,6))\n",
    "plt.ylabel('VICTIM COUNT',fontsize=15)\n",
    "plt.xlabel('Schools',fontsize=15)\n",
    "plt.xticks(rotation=20)\n",
    "plt.title('Schools with hate crimes',fontsize=15)\n",
    "plt.show()"
   ]
  },
  {
   "cell_type": "markdown",
   "id": "3267feb4-4b2f-409f-9000-69efd323aac0",
   "metadata": {},
   "source": [
    "#### The total number of victims killed in hate crimes in the schools in Illinois state."
   ]
  },
  {
   "cell_type": "code",
   "execution_count": 42,
   "id": "2044da0c-8536-4be9-993b-f4d10a60b91c",
   "metadata": {},
   "outputs": [
    {
     "data": {
      "text/plain": [
       "95"
      ]
     },
     "execution_count": 42,
     "metadata": {},
     "output_type": "execute_result"
    }
   ],
   "source": [
    "data.loc[data['AGENCY_TYPE_NAME']== 'University or College','VICTIM_COUNT'].sum()"
   ]
  },
  {
   "cell_type": "markdown",
   "id": "0660c770-9d87-4af3-b4db-8c378a802dcf",
   "metadata": {},
   "source": [
    "#### The highest 10 Years with the number of victims killed in hate crimes in the schools in Illinois state."
   ]
  },
  {
   "cell_type": "code",
   "execution_count": 43,
   "id": "7b784b53-f91a-4bcf-98eb-856e2296079b",
   "metadata": {},
   "outputs": [
    {
     "data": {
      "text/plain": [
       "93    12\n",
       "99     8\n",
       "98     7\n",
       "01     4\n",
       "97     4\n",
       "00     4\n",
       "08     3\n",
       "09     3\n",
       "05     3\n",
       "02     2\n",
       "Name: Year, dtype: int64"
      ]
     },
     "execution_count": 43,
     "metadata": {},
     "output_type": "execute_result"
    }
   ],
   "source": [
    "data.loc[data['AGENCY_TYPE_NAME']== 'University or College','Year'].value_counts().head(10)"
   ]
  },
  {
   "cell_type": "code",
   "execution_count": 44,
   "id": "cba2a5f0-d090-4921-aa4c-0d6952cbcb48",
   "metadata": {},
   "outputs": [
    {
     "data": {
      "image/png": "[encoded data removed]",
      "text/plain": [
       "<Figure size 1008x432 with 1 Axes>"
      ]
     },
     "metadata": {
      "needs_background": "light"
     },
     "output_type": "display_data"
    }
   ],
   "source": [
    "data.loc[data['AGENCY_TYPE_NAME']== 'University or College','Year'].value_counts().head(10).plot(kind='bar', figsize=(14,6))\n",
    "plt.ylabel('VICTIM COUNT',fontsize=15)\n",
    "plt.xlabel('Years',fontsize=15)\n",
    "plt.xticks(rotation=20)\n",
    "plt.title('Years with hate crimes in schools',fontsize=15)\n",
    "plt.show()"
   ]
  },
  {
   "cell_type": "markdown",
   "id": "0a242add-2559-4801-9259-cfb01d756280",
   "metadata": {},
   "source": [
    "#### The race of the victims killed in hate crimes in the schools in Illinois state."
   ]
  },
  {
   "cell_type": "code",
   "execution_count": 45,
   "id": "1632cb0d-1ba4-4d78-9d48-701c22cdee2b",
   "metadata": {},
   "outputs": [
    {
     "data": {
      "text/plain": [
       "Anti-Black or African American        19\n",
       "Anti-Gay (Male)                       12\n",
       "Anti-White                             9\n",
       "Anti-LGTB(Mixed Group)                 6\n",
       "Anti-Asian                             4\n",
       "Anti-Other Race/Ethnicity/Ancestry     3\n",
       "Anti-Hispanic or Latino                2\n",
       "Anti-Multiple Races, Group             2\n",
       "Anti-Other Religion                    2\n",
       "Anti-Lesbian (Female)                  2\n",
       "Anti-Arab                              2\n",
       "Anti-Islamic (Muslim)                  2\n",
       "Anti-Jewish                            1\n",
       "Name: BIAS_DESC, dtype: int64"
      ]
     },
     "execution_count": 45,
     "metadata": {},
     "output_type": "execute_result"
    }
   ],
   "source": [
    "data.loc[data['AGENCY_TYPE_NAME']== 'University or College','BIAS_DESC'].value_counts()"
   ]
  },
  {
   "cell_type": "markdown",
   "id": "a540bef8-ecfc-4297-8391-23d95fd32905",
   "metadata": {},
   "source": [
    "#### The race of the offender's done hate crimes in the schools in Illinois state."
   ]
  },
  {
   "cell_type": "code",
   "execution_count": 46,
   "id": "46d97c03-685c-42a8-86b6-e9adc042142d",
   "metadata": {},
   "outputs": [
    {
     "data": {
      "text/plain": [
       "White                        45\n",
       "Black or African American    19\n",
       "Multiple                      1\n",
       "Asian                         1\n",
       "Name: OFFENDER_RACE, dtype: int64"
      ]
     },
     "execution_count": 46,
     "metadata": {},
     "output_type": "execute_result"
    }
   ],
   "source": [
    "data.loc[data['AGENCY_TYPE_NAME']== 'University or College','OFFENDER_RACE'].value_counts()"
   ]
  },
  {
   "cell_type": "code",
   "execution_count": null,
   "id": "3358331c-9d77-43cf-a51d-415d1a3a9d30",
   "metadata": {},
   "outputs": [],
   "source": []
  },
  {
   "cell_type": "code",
   "execution_count": 47,
   "id": "d99613e6-5133-48cf-b2f6-25811cd8a16b",
   "metadata": {},
   "outputs": [],
   "source": [
    "categories=list(data.loc[data['AGENCY_TYPE_NAME']== 'University or College','OFFENDER_RACE'].value_counts().keys())"
   ]
  },
  {
   "cell_type": "code",
   "execution_count": 48,
   "id": "1db61752-2d94-45f0-b132-34359066457f",
   "metadata": {},
   "outputs": [
    {
     "data": {
      "text/plain": [
       "['White', 'Black or African American', 'Multiple', 'Asian']"
      ]
     },
     "execution_count": 48,
     "metadata": {},
     "output_type": "execute_result"
    }
   ],
   "source": [
    "categories"
   ]
  },
  {
   "cell_type": "code",
   "execution_count": 49,
   "id": "1c9f48a2-c278-4988-93a1-27165b160813",
   "metadata": {},
   "outputs": [],
   "source": [
    "dict={}\n",
    "for category in categories:\n",
    "    dict[category]=data.loc[(data['AGENCY_TYPE_NAME']== 'University or College') & (data['OFFENDER_RACE']== category) ,'BIAS_DESC'].value_counts()"
   ]
  },
  {
   "cell_type": "code",
   "execution_count": 50,
   "id": "d81ba6bd-db9b-4eb9-ba88-4004957876c5",
   "metadata": {},
   "outputs": [
    {
     "data": {
      "text/html": [
       "<div>\n",
       "<style scoped>\n",
       "    .dataframe tbody tr th:only-of-type {\n",
       "        vertical-align: middle;\n",
       "    }\n",
       "\n",
       "    .dataframe tbody tr th {\n",
       "        vertical-align: top;\n",
       "    }\n",
       "\n",
       "    .dataframe thead th {\n",
       "        text-align: right;\n",
       "    }\n",
       "</style>\n",
       "<table border=\"1\" class=\"dataframe\">\n",
       "  <thead>\n",
       "    <tr style=\"text-align: right;\">\n",
       "      <th></th>\n",
       "      <th>White</th>\n",
       "      <th>Black or African American</th>\n",
       "      <th>Multiple</th>\n",
       "      <th>Asian</th>\n",
       "    </tr>\n",
       "  </thead>\n",
       "  <tbody>\n",
       "    <tr>\n",
       "      <th>Anti-Arab</th>\n",
       "      <td>2.0</td>\n",
       "      <td>NaN</td>\n",
       "      <td>NaN</td>\n",
       "      <td>NaN</td>\n",
       "    </tr>\n",
       "    <tr>\n",
       "      <th>Anti-Asian</th>\n",
       "      <td>3.0</td>\n",
       "      <td>1.0</td>\n",
       "      <td>NaN</td>\n",
       "      <td>NaN</td>\n",
       "    </tr>\n",
       "    <tr>\n",
       "      <th>Anti-Black or African American</th>\n",
       "      <td>18.0</td>\n",
       "      <td>1.0</td>\n",
       "      <td>NaN</td>\n",
       "      <td>NaN</td>\n",
       "    </tr>\n",
       "    <tr>\n",
       "      <th>Anti-Gay (Male)</th>\n",
       "      <td>8.0</td>\n",
       "      <td>4.0</td>\n",
       "      <td>NaN</td>\n",
       "      <td>NaN</td>\n",
       "    </tr>\n",
       "    <tr>\n",
       "      <th>Anti-Hispanic or Latino</th>\n",
       "      <td>NaN</td>\n",
       "      <td>2.0</td>\n",
       "      <td>NaN</td>\n",
       "      <td>NaN</td>\n",
       "    </tr>\n",
       "    <tr>\n",
       "      <th>Anti-Islamic (Muslim)</th>\n",
       "      <td>2.0</td>\n",
       "      <td>NaN</td>\n",
       "      <td>NaN</td>\n",
       "      <td>NaN</td>\n",
       "    </tr>\n",
       "    <tr>\n",
       "      <th>Anti-Jewish</th>\n",
       "      <td>1.0</td>\n",
       "      <td>NaN</td>\n",
       "      <td>NaN</td>\n",
       "      <td>NaN</td>\n",
       "    </tr>\n",
       "    <tr>\n",
       "      <th>Anti-LGTB(Mixed Group)</th>\n",
       "      <td>5.0</td>\n",
       "      <td>1.0</td>\n",
       "      <td>NaN</td>\n",
       "      <td>NaN</td>\n",
       "    </tr>\n",
       "    <tr>\n",
       "      <th>Anti-Lesbian (Female)</th>\n",
       "      <td>2.0</td>\n",
       "      <td>NaN</td>\n",
       "      <td>NaN</td>\n",
       "      <td>NaN</td>\n",
       "    </tr>\n",
       "    <tr>\n",
       "      <th>Anti-Multiple Races, Group</th>\n",
       "      <td>1.0</td>\n",
       "      <td>1.0</td>\n",
       "      <td>NaN</td>\n",
       "      <td>NaN</td>\n",
       "    </tr>\n",
       "    <tr>\n",
       "      <th>Anti-Other Race/Ethnicity/Ancestry</th>\n",
       "      <td>2.0</td>\n",
       "      <td>1.0</td>\n",
       "      <td>NaN</td>\n",
       "      <td>NaN</td>\n",
       "    </tr>\n",
       "    <tr>\n",
       "      <th>Anti-Other Religion</th>\n",
       "      <td>1.0</td>\n",
       "      <td>1.0</td>\n",
       "      <td>NaN</td>\n",
       "      <td>NaN</td>\n",
       "    </tr>\n",
       "    <tr>\n",
       "      <th>Anti-White</th>\n",
       "      <td>NaN</td>\n",
       "      <td>7.0</td>\n",
       "      <td>1.0</td>\n",
       "      <td>1.0</td>\n",
       "    </tr>\n",
       "  </tbody>\n",
       "</table>\n",
       "</div>"
      ],
      "text/plain": [
       "                                    White  Black or African American  \\\n",
       "Anti-Arab                             2.0                        NaN   \n",
       "Anti-Asian                            3.0                        1.0   \n",
       "Anti-Black or African American       18.0                        1.0   \n",
       "Anti-Gay (Male)                       8.0                        4.0   \n",
       "Anti-Hispanic or Latino               NaN                        2.0   \n",
       "Anti-Islamic (Muslim)                 2.0                        NaN   \n",
       "Anti-Jewish                           1.0                        NaN   \n",
       "Anti-LGTB(Mixed Group)                5.0                        1.0   \n",
       "Anti-Lesbian (Female)                 2.0                        NaN   \n",
       "Anti-Multiple Races, Group            1.0                        1.0   \n",
       "Anti-Other Race/Ethnicity/Ancestry    2.0                        1.0   \n",
       "Anti-Other Religion                   1.0                        1.0   \n",
       "Anti-White                            NaN                        7.0   \n",
       "\n",
       "                                    Multiple  Asian  \n",
       "Anti-Arab                                NaN    NaN  \n",
       "Anti-Asian                               NaN    NaN  \n",
       "Anti-Black or African American           NaN    NaN  \n",
       "Anti-Gay (Male)                          NaN    NaN  \n",
       "Anti-Hispanic or Latino                  NaN    NaN  \n",
       "Anti-Islamic (Muslim)                    NaN    NaN  \n",
       "Anti-Jewish                              NaN    NaN  \n",
       "Anti-LGTB(Mixed Group)                   NaN    NaN  \n",
       "Anti-Lesbian (Female)                    NaN    NaN  \n",
       "Anti-Multiple Races, Group               NaN    NaN  \n",
       "Anti-Other Race/Ethnicity/Ancestry       NaN    NaN  \n",
       "Anti-Other Religion                      NaN    NaN  \n",
       "Anti-White                               1.0    1.0  "
      ]
     },
     "execution_count": 50,
     "metadata": {},
     "output_type": "execute_result"
    }
   ],
   "source": [
    "pd.DataFrame(dict)"
   ]
  },
  {
   "cell_type": "code",
   "execution_count": 51,
   "id": "ce7625d0-20c7-4dfc-a7e0-cc72faa133e0",
   "metadata": {},
   "outputs": [],
   "source": [
    "school_murderers_victims_df = pd.DataFrame(dict)\n",
    "for col in school_murderers_victims_df:\n",
    "    school_murderers_victims_df.replace(np.nan, 0, inplace=True)"
   ]
  },
  {
   "cell_type": "code",
   "execution_count": 52,
   "id": "266dc17c-7d73-4f33-9ff0-ed162d0391d0",
   "metadata": {},
   "outputs": [
    {
     "data": {
      "text/html": [
       "<div>\n",
       "<style scoped>\n",
       "    .dataframe tbody tr th:only-of-type {\n",
       "        vertical-align: middle;\n",
       "    }\n",
       "\n",
       "    .dataframe tbody tr th {\n",
       "        vertical-align: top;\n",
       "    }\n",
       "\n",
       "    .dataframe thead th {\n",
       "        text-align: right;\n",
       "    }\n",
       "</style>\n",
       "<table border=\"1\" class=\"dataframe\">\n",
       "  <thead>\n",
       "    <tr style=\"text-align: right;\">\n",
       "      <th></th>\n",
       "      <th>White</th>\n",
       "      <th>Black or African American</th>\n",
       "      <th>Multiple</th>\n",
       "      <th>Asian</th>\n",
       "    </tr>\n",
       "  </thead>\n",
       "  <tbody>\n",
       "    <tr>\n",
       "      <th>Anti-Arab</th>\n",
       "      <td>2.0</td>\n",
       "      <td>0.0</td>\n",
       "      <td>0.0</td>\n",
       "      <td>0.0</td>\n",
       "    </tr>\n",
       "    <tr>\n",
       "      <th>Anti-Asian</th>\n",
       "      <td>3.0</td>\n",
       "      <td>1.0</td>\n",
       "      <td>0.0</td>\n",
       "      <td>0.0</td>\n",
       "    </tr>\n",
       "    <tr>\n",
       "      <th>Anti-Black or African American</th>\n",
       "      <td>18.0</td>\n",
       "      <td>1.0</td>\n",
       "      <td>0.0</td>\n",
       "      <td>0.0</td>\n",
       "    </tr>\n",
       "    <tr>\n",
       "      <th>Anti-Gay (Male)</th>\n",
       "      <td>8.0</td>\n",
       "      <td>4.0</td>\n",
       "      <td>0.0</td>\n",
       "      <td>0.0</td>\n",
       "    </tr>\n",
       "    <tr>\n",
       "      <th>Anti-Hispanic or Latino</th>\n",
       "      <td>0.0</td>\n",
       "      <td>2.0</td>\n",
       "      <td>0.0</td>\n",
       "      <td>0.0</td>\n",
       "    </tr>\n",
       "    <tr>\n",
       "      <th>Anti-Islamic (Muslim)</th>\n",
       "      <td>2.0</td>\n",
       "      <td>0.0</td>\n",
       "      <td>0.0</td>\n",
       "      <td>0.0</td>\n",
       "    </tr>\n",
       "    <tr>\n",
       "      <th>Anti-Jewish</th>\n",
       "      <td>1.0</td>\n",
       "      <td>0.0</td>\n",
       "      <td>0.0</td>\n",
       "      <td>0.0</td>\n",
       "    </tr>\n",
       "    <tr>\n",
       "      <th>Anti-LGTB(Mixed Group)</th>\n",
       "      <td>5.0</td>\n",
       "      <td>1.0</td>\n",
       "      <td>0.0</td>\n",
       "      <td>0.0</td>\n",
       "    </tr>\n",
       "    <tr>\n",
       "      <th>Anti-Lesbian (Female)</th>\n",
       "      <td>2.0</td>\n",
       "      <td>0.0</td>\n",
       "      <td>0.0</td>\n",
       "      <td>0.0</td>\n",
       "    </tr>\n",
       "    <tr>\n",
       "      <th>Anti-Multiple Races, Group</th>\n",
       "      <td>1.0</td>\n",
       "      <td>1.0</td>\n",
       "      <td>0.0</td>\n",
       "      <td>0.0</td>\n",
       "    </tr>\n",
       "    <tr>\n",
       "      <th>Anti-Other Race/Ethnicity/Ancestry</th>\n",
       "      <td>2.0</td>\n",
       "      <td>1.0</td>\n",
       "      <td>0.0</td>\n",
       "      <td>0.0</td>\n",
       "    </tr>\n",
       "    <tr>\n",
       "      <th>Anti-Other Religion</th>\n",
       "      <td>1.0</td>\n",
       "      <td>1.0</td>\n",
       "      <td>0.0</td>\n",
       "      <td>0.0</td>\n",
       "    </tr>\n",
       "    <tr>\n",
       "      <th>Anti-White</th>\n",
       "      <td>0.0</td>\n",
       "      <td>7.0</td>\n",
       "      <td>1.0</td>\n",
       "      <td>1.0</td>\n",
       "    </tr>\n",
       "  </tbody>\n",
       "</table>\n",
       "</div>"
      ],
      "text/plain": [
       "                                    White  Black or African American  \\\n",
       "Anti-Arab                             2.0                        0.0   \n",
       "Anti-Asian                            3.0                        1.0   \n",
       "Anti-Black or African American       18.0                        1.0   \n",
       "Anti-Gay (Male)                       8.0                        4.0   \n",
       "Anti-Hispanic or Latino               0.0                        2.0   \n",
       "Anti-Islamic (Muslim)                 2.0                        0.0   \n",
       "Anti-Jewish                           1.0                        0.0   \n",
       "Anti-LGTB(Mixed Group)                5.0                        1.0   \n",
       "Anti-Lesbian (Female)                 2.0                        0.0   \n",
       "Anti-Multiple Races, Group            1.0                        1.0   \n",
       "Anti-Other Race/Ethnicity/Ancestry    2.0                        1.0   \n",
       "Anti-Other Religion                   1.0                        1.0   \n",
       "Anti-White                            0.0                        7.0   \n",
       "\n",
       "                                    Multiple  Asian  \n",
       "Anti-Arab                                0.0    0.0  \n",
       "Anti-Asian                               0.0    0.0  \n",
       "Anti-Black or African American           0.0    0.0  \n",
       "Anti-Gay (Male)                          0.0    0.0  \n",
       "Anti-Hispanic or Latino                  0.0    0.0  \n",
       "Anti-Islamic (Muslim)                    0.0    0.0  \n",
       "Anti-Jewish                              0.0    0.0  \n",
       "Anti-LGTB(Mixed Group)                   0.0    0.0  \n",
       "Anti-Lesbian (Female)                    0.0    0.0  \n",
       "Anti-Multiple Races, Group               0.0    0.0  \n",
       "Anti-Other Race/Ethnicity/Ancestry       0.0    0.0  \n",
       "Anti-Other Religion                      0.0    0.0  \n",
       "Anti-White                               1.0    1.0  "
      ]
     },
     "execution_count": 52,
     "metadata": {},
     "output_type": "execute_result"
    }
   ],
   "source": [
    "school_murderers_victims_df"
   ]
  },
  {
   "cell_type": "code",
   "execution_count": 53,
   "id": "8a690ccd-d561-49f2-9cbc-3820caa2f7a9",
   "metadata": {},
   "outputs": [
    {
     "name": "stderr",
     "output_type": "stream",
     "text": [
      "C:\\Users\\ITEK\\AppData\\Local\\Temp/ipykernel_13284/2390833815.py:1: FutureWarning: In a future version of pandas all arguments of DataFrame.drop except for the argument 'labels' will be keyword-only\n",
      "  school_murderers_victims_df = school_murderers_victims_df.assign(tmp=school_murderers_victims_df.sum(axis=1)).sort_values('tmp', ascending=False).drop('tmp', 1).head(10)\n"
     ]
    }
   ],
   "source": [
    "school_murderers_victims_df = school_murderers_victims_df.assign(tmp=school_murderers_victims_df.sum(axis=1)).sort_values('tmp', ascending=False).drop('tmp', 1).head(10)"
   ]
  },
  {
   "cell_type": "code",
   "execution_count": 54,
   "id": "49646853-4d77-4bac-bda4-ae554d5e117b",
   "metadata": {},
   "outputs": [
    {
     "data": {
      "text/html": [
       "<div>\n",
       "<style scoped>\n",
       "    .dataframe tbody tr th:only-of-type {\n",
       "        vertical-align: middle;\n",
       "    }\n",
       "\n",
       "    .dataframe tbody tr th {\n",
       "        vertical-align: top;\n",
       "    }\n",
       "\n",
       "    .dataframe thead th {\n",
       "        text-align: right;\n",
       "    }\n",
       "</style>\n",
       "<table border=\"1\" class=\"dataframe\">\n",
       "  <thead>\n",
       "    <tr style=\"text-align: right;\">\n",
       "      <th></th>\n",
       "      <th>White</th>\n",
       "      <th>Black or African American</th>\n",
       "      <th>Multiple</th>\n",
       "      <th>Asian</th>\n",
       "    </tr>\n",
       "  </thead>\n",
       "  <tbody>\n",
       "    <tr>\n",
       "      <th>Anti-Black or African American</th>\n",
       "      <td>18.0</td>\n",
       "      <td>1.0</td>\n",
       "      <td>0.0</td>\n",
       "      <td>0.0</td>\n",
       "    </tr>\n",
       "    <tr>\n",
       "      <th>Anti-Gay (Male)</th>\n",
       "      <td>8.0</td>\n",
       "      <td>4.0</td>\n",
       "      <td>0.0</td>\n",
       "      <td>0.0</td>\n",
       "    </tr>\n",
       "    <tr>\n",
       "      <th>Anti-White</th>\n",
       "      <td>0.0</td>\n",
       "      <td>7.0</td>\n",
       "      <td>1.0</td>\n",
       "      <td>1.0</td>\n",
       "    </tr>\n",
       "    <tr>\n",
       "      <th>Anti-LGTB(Mixed Group)</th>\n",
       "      <td>5.0</td>\n",
       "      <td>1.0</td>\n",
       "      <td>0.0</td>\n",
       "      <td>0.0</td>\n",
       "    </tr>\n",
       "    <tr>\n",
       "      <th>Anti-Asian</th>\n",
       "      <td>3.0</td>\n",
       "      <td>1.0</td>\n",
       "      <td>0.0</td>\n",
       "      <td>0.0</td>\n",
       "    </tr>\n",
       "    <tr>\n",
       "      <th>Anti-Other Race/Ethnicity/Ancestry</th>\n",
       "      <td>2.0</td>\n",
       "      <td>1.0</td>\n",
       "      <td>0.0</td>\n",
       "      <td>0.0</td>\n",
       "    </tr>\n",
       "    <tr>\n",
       "      <th>Anti-Arab</th>\n",
       "      <td>2.0</td>\n",
       "      <td>0.0</td>\n",
       "      <td>0.0</td>\n",
       "      <td>0.0</td>\n",
       "    </tr>\n",
       "    <tr>\n",
       "      <th>Anti-Hispanic or Latino</th>\n",
       "      <td>0.0</td>\n",
       "      <td>2.0</td>\n",
       "      <td>0.0</td>\n",
       "      <td>0.0</td>\n",
       "    </tr>\n",
       "    <tr>\n",
       "      <th>Anti-Islamic (Muslim)</th>\n",
       "      <td>2.0</td>\n",
       "      <td>0.0</td>\n",
       "      <td>0.0</td>\n",
       "      <td>0.0</td>\n",
       "    </tr>\n",
       "    <tr>\n",
       "      <th>Anti-Lesbian (Female)</th>\n",
       "      <td>2.0</td>\n",
       "      <td>0.0</td>\n",
       "      <td>0.0</td>\n",
       "      <td>0.0</td>\n",
       "    </tr>\n",
       "  </tbody>\n",
       "</table>\n",
       "</div>"
      ],
      "text/plain": [
       "                                    White  Black or African American  \\\n",
       "Anti-Black or African American       18.0                        1.0   \n",
       "Anti-Gay (Male)                       8.0                        4.0   \n",
       "Anti-White                            0.0                        7.0   \n",
       "Anti-LGTB(Mixed Group)                5.0                        1.0   \n",
       "Anti-Asian                            3.0                        1.0   \n",
       "Anti-Other Race/Ethnicity/Ancestry    2.0                        1.0   \n",
       "Anti-Arab                             2.0                        0.0   \n",
       "Anti-Hispanic or Latino               0.0                        2.0   \n",
       "Anti-Islamic (Muslim)                 2.0                        0.0   \n",
       "Anti-Lesbian (Female)                 2.0                        0.0   \n",
       "\n",
       "                                    Multiple  Asian  \n",
       "Anti-Black or African American           0.0    0.0  \n",
       "Anti-Gay (Male)                          0.0    0.0  \n",
       "Anti-White                               1.0    1.0  \n",
       "Anti-LGTB(Mixed Group)                   0.0    0.0  \n",
       "Anti-Asian                               0.0    0.0  \n",
       "Anti-Other Race/Ethnicity/Ancestry       0.0    0.0  \n",
       "Anti-Arab                                0.0    0.0  \n",
       "Anti-Hispanic or Latino                  0.0    0.0  \n",
       "Anti-Islamic (Muslim)                    0.0    0.0  \n",
       "Anti-Lesbian (Female)                    0.0    0.0  "
      ]
     },
     "execution_count": 54,
     "metadata": {},
     "output_type": "execute_result"
    }
   ],
   "source": [
    "school_murderers_victims_df"
   ]
  },
  {
   "cell_type": "code",
   "execution_count": 55,
   "id": "390af05c-6d7e-464e-a844-d9632dac4a96",
   "metadata": {},
   "outputs": [
    {
     "data": {
      "text/plain": [
       "White                        45.0\n",
       "Black or African American    19.0\n",
       "Multiple                      1.0\n",
       "Asian                         1.0\n",
       "dtype: float64"
      ]
     },
     "execution_count": 55,
     "metadata": {},
     "output_type": "execute_result"
    }
   ],
   "source": [
    "pd.DataFrame(dict).sum()"
   ]
  },
  {
   "cell_type": "code",
   "execution_count": 56,
   "id": "d49c6a2c-2a66-446c-aa0f-b491c527711a",
   "metadata": {},
   "outputs": [
    {
     "data": {
      "image/png": "[encoded data removed]",
      "text/plain": [
       "<Figure size 1152x504 with 1 Axes>"
      ]
     },
     "metadata": {
      "needs_background": "light"
     },
     "output_type": "display_data"
    }
   ],
   "source": [
    "school_murderers_victims_df.plot(kind='bar',figsize=(16,7),log=True)\n",
    "plt.ylabel('VICTIM COUNT',fontsize=15)\n",
    "plt.xlabel('Bias Description',fontsize=15)\n",
    "plt.xticks(rotation=25, ha=\"center\", va=\"center\")\n",
    "plt.tick_params(axis='x', which='major', pad=40)\n",
    "plt.title('Targeted Groups By Hate Crimes in Schools',fontsize=15)\n",
    "plt.legend()\n",
    "plt.show()"
   ]
  },
  {
   "cell_type": "code",
   "execution_count": 57,
   "id": "56da82be-fc53-4a2d-95df-a07e3bd4b3bb",
   "metadata": {},
   "outputs": [
    {
     "data": {
      "text/plain": [
       "Individual                3544\n",
       "Religious Organization      34\n",
       "Society/Public              25\n",
       "Business                    25\n",
       "Other                       14\n",
       "Name: VICTIM_TYPES, dtype: int64"
      ]
     },
     "execution_count": 57,
     "metadata": {},
     "output_type": "execute_result"
    }
   ],
   "source": [
    "data['VICTIM_TYPES'].value_counts().head(5)"
   ]
  },
  {
   "cell_type": "code",
   "execution_count": 58,
   "id": "5586bb66-5a19-4417-9564-11163599fa45",
   "metadata": {},
   "outputs": [
    {
     "data": {
      "image/png": "[encoded data removed]",
      "text/plain": [
       "<Figure size 1008x432 with 1 Axes>"
      ]
     },
     "metadata": {
      "needs_background": "light"
     },
     "output_type": "display_data"
    }
   ],
   "source": [
    "data['VICTIM_TYPES'].value_counts().head(5).plot(kind='bar', figsize=(14,6))\n",
    "plt.ylabel('VICTIM COUNT',fontsize=15)\n",
    "plt.xlabel('VICTIM TYPES',fontsize=15)\n",
    "plt.xticks(rotation=20)\n",
    "plt.title('VICTIM TYPES',fontsize=15)\n",
    "plt.show()"
   ]
  },
  {
   "cell_type": "code",
   "execution_count": 59,
   "id": "b9ee343b-4623-4007-86ca-3ea6707e1814",
   "metadata": {},
   "outputs": [
    {
     "data": {
      "text/plain": [
       "01    24\n",
       "91     9\n",
       "92     9\n",
       "94     7\n",
       "95     4\n",
       "93     2\n",
       "98     1\n",
       "00     1\n",
       "02     1\n",
       "16     1\n",
       "17     1\n",
       "18     1\n",
       "Name: Year, dtype: int64"
      ]
     },
     "execution_count": 59,
     "metadata": {},
     "output_type": "execute_result"
    }
   ],
   "source": [
    "data.loc[(data['BIAS_DESC'] == 'Anti-Arab') & (data['PUB_AGENCY_NAME'] == 'Chicago')]['Year'].value_counts()"
   ]
  },
  {
   "cell_type": "code",
   "execution_count": 60,
   "id": "e7e24fb6-4fa0-42fb-9e9c-d36d3abf74ca",
   "metadata": {},
   "outputs": [
    {
     "data": {
      "text/plain": [
       "01    24\n",
       "91     9\n",
       "92     9\n",
       "94     7\n",
       "95     4\n",
       "93     2\n",
       "98     1\n",
       "00     1\n",
       "02     1\n",
       "16     1\n",
       "17     1\n",
       "18     1\n",
       "Name: Year, dtype: int64"
      ]
     },
     "execution_count": 60,
     "metadata": {},
     "output_type": "execute_result"
    }
   ],
   "source": [
    "data.loc[(data['BIAS_DESC'] == 'Anti-Arab') & (data['PUB_AGENCY_NAME'] == 'Chicago')]['Year'].value_counts()"
   ]
  },
  {
   "cell_type": "code",
   "execution_count": null,
   "id": "31880939-5361-44dc-86ec-0fd207bb7f20",
   "metadata": {},
   "outputs": [],
   "source": []
  },
  {
   "cell_type": "code",
   "execution_count": 61,
   "id": "94cadfc7-7e1e-400a-9efc-69e80e81be15",
   "metadata": {},
   "outputs": [
    {
     "data": {
      "text/plain": [
       "93    46\n",
       "92    44\n",
       "94    36\n",
       "97    32\n",
       "95    31\n",
       "91    22\n",
       "99    21\n",
       "98    20\n",
       "00    20\n",
       "13    13\n",
       "Name: Year, dtype: int64"
      ]
     },
     "execution_count": 61,
     "metadata": {},
     "output_type": "execute_result"
    }
   ],
   "source": [
    "data.loc[(data['BIAS_DESC'] == 'Anti-Black or African American') & (data['PUB_AGENCY_NAME'] == 'Chicago')]['Year'].value_counts().head(10)"
   ]
  },
  {
   "cell_type": "code",
   "execution_count": 62,
   "id": "27bfbd95-928c-4c3b-b588-be17a7d87ffc",
   "metadata": {},
   "outputs": [
    {
     "data": {
      "text/plain": [
       "92    66\n",
       "93    50\n",
       "94    39\n",
       "97    31\n",
       "91    30\n",
       "95    27\n",
       "96    15\n",
       "98    15\n",
       "02    11\n",
       "05     8\n",
       "Name: Year, dtype: int64"
      ]
     },
     "execution_count": 62,
     "metadata": {},
     "output_type": "execute_result"
    }
   ],
   "source": [
    "data.loc[(data['BIAS_DESC'] == 'Anti-White') & (data['PUB_AGENCY_NAME'] == 'Chicago')]['Year'].value_counts().head(10)"
   ]
  },
  {
   "cell_type": "code",
   "execution_count": 63,
   "id": "d32b59ca-2e98-4612-b4db-ea0d374a4b82",
   "metadata": {},
   "outputs": [
    {
     "data": {
      "text/plain": [
       "94    10\n",
       "93     6\n",
       "97     5\n",
       "01     5\n",
       "18     4\n",
       "92     4\n",
       "08     4\n",
       "96     3\n",
       "17     3\n",
       "99     3\n",
       "Name: Year, dtype: int64"
      ]
     },
     "execution_count": 63,
     "metadata": {},
     "output_type": "execute_result"
    }
   ],
   "source": [
    "data.loc[(data['BIAS_DESC'] == 'Anti-Jewish') & (data['PUB_AGENCY_NAME'] == 'Chicago')]['Year'].value_counts().head(10)"
   ]
  },
  {
   "cell_type": "code",
   "execution_count": 64,
   "id": "05e4a5ed-0818-49cc-b5f5-15d85c08394a",
   "metadata": {},
   "outputs": [
    {
     "data": {
      "text/plain": [
       "17    3\n",
       "18    3\n",
       "01    2\n",
       "04    2\n",
       "14    2\n",
       "16    2\n",
       "91    1\n",
       "95    1\n",
       "03    1\n",
       "08    1\n",
       "20    1\n",
       "Name: Year, dtype: int64"
      ]
     },
     "execution_count": 64,
     "metadata": {},
     "output_type": "execute_result"
    }
   ],
   "source": [
    "data.loc[(data['BIAS_DESC'] == 'Anti-Islamic (Muslim)') & (data['PUB_AGENCY_NAME'] == 'Chicago'),'Year'].value_counts()"
   ]
  },
  {
   "cell_type": "code",
   "execution_count": null,
   "id": "da1aafe8-dfc6-444f-8ad8-19d07e14e051",
   "metadata": {},
   "outputs": [],
   "source": []
  },
  {
   "cell_type": "code",
   "execution_count": 65,
   "id": "713c52f4-f31a-463e-9619-2d86cfea2db3",
   "metadata": {},
   "outputs": [
    {
     "data": {
      "text/plain": [
       "01    8\n",
       "17    8\n",
       "04    5\n",
       "16    5\n",
       "18    3\n",
       "03    3\n",
       "14    3\n",
       "10    2\n",
       "13    2\n",
       "19    2\n",
       "20    2\n",
       "11    1\n",
       "95    1\n",
       "09    1\n",
       "15    1\n",
       "08    1\n",
       "05    1\n",
       "02    1\n",
       "97    1\n",
       "91    1\n",
       "Name: Year, dtype: int64"
      ]
     },
     "execution_count": 65,
     "metadata": {},
     "output_type": "execute_result"
    }
   ],
   "source": [
    "data.loc[data['BIAS_DESC'] == 'Anti-Islamic (Muslim)']['Year'].value_counts()"
   ]
  },
  {
   "cell_type": "code",
   "execution_count": null,
   "id": "ee73a059-c2ac-440f-b3ee-ae7ca8aee81b",
   "metadata": {},
   "outputs": [],
   "source": []
  },
  {
   "cell_type": "code",
   "execution_count": null,
   "id": "66d1a008-0a69-4f69-a788-c27ca9d029a4",
   "metadata": {},
   "outputs": [],
   "source": []
  },
  {
   "cell_type": "code",
   "execution_count": null,
   "id": "f48358af-29a5-4275-8c86-c974d4b02742",
   "metadata": {},
   "outputs": [],
   "source": []
  },
  {
   "cell_type": "code",
   "execution_count": null,
   "id": "4d519aac-97e4-4385-8617-6b3d3b317e30",
   "metadata": {},
   "outputs": [],
   "source": []
  },
  {
   "cell_type": "code",
   "execution_count": null,
   "id": "750d7dae-4180-4d1c-abfc-f827d3c84305",
   "metadata": {},
   "outputs": [],
   "source": []
  },
  {
   "cell_type": "code",
   "execution_count": null,
   "id": "7c429cd0-8353-4ca8-ace1-03588d69de17",
   "metadata": {},
   "outputs": [],
   "source": []
  }
 ],
 "metadata": {
  "kernelspec": {
   "display_name": "Python 3 (ipykernel)",
   "language": "python",
   "name": "python3"
  },
  "language_info": {
   "codemirror_mode": {
    "name": "ipython",
    "version": 3
   },
   "file_extension": ".py",
   "mimetype": "text/x-python",
   "name": "python",
   "nbconvert_exporter": "python",
   "pygments_lexer": "ipython3",
   "version": "3.10.0"
  }
 },
 "nbformat": 4,
 "nbformat_minor": 5
}
